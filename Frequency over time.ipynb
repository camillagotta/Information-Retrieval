{
 "cells": [
  {
   "cell_type": "markdown",
   "metadata": {},
   "source": [
    "### Frequency over time of drug and weapons topics"
   ]
  },
  {
   "cell_type": "markdown",
   "metadata": {},
   "source": [
    "\n",
    "\n",
    "### Importing libraries\n",
    "Python imports:"
   ]
  },
  {
   "cell_type": "code",
   "execution_count": 2,
   "metadata": {},
   "outputs": [
    {
     "name": "stdout",
     "output_type": "stream",
     "text": [
      "Requirement already satisfied: spacy in c:\\users\\hadjiandrea\\anaconda3\\lib\\site-packages (3.2.1)\n",
      "Requirement already satisfied: blis<0.8.0,>=0.4.0 in c:\\users\\hadjiandrea\\anaconda3\\lib\\site-packages (from spacy) (0.7.5)\n",
      "Requirement already satisfied: preshed<3.1.0,>=3.0.2 in c:\\users\\hadjiandrea\\anaconda3\\lib\\site-packages (from spacy) (3.0.6)\n",
      "Requirement already satisfied: pathy>=0.3.5 in c:\\users\\hadjiandrea\\anaconda3\\lib\\site-packages (from spacy) (0.6.1)\n",
      "Requirement already satisfied: cymem<2.1.0,>=2.0.2 in c:\\users\\hadjiandrea\\anaconda3\\lib\\site-packages (from spacy) (2.0.6)\n",
      "Requirement already satisfied: pydantic!=1.8,!=1.8.1,<1.9.0,>=1.7.4 in c:\\users\\hadjiandrea\\anaconda3\\lib\\site-packages (from spacy) (1.8.2)\n",
      "Requirement already satisfied: thinc<8.1.0,>=8.0.12 in c:\\users\\hadjiandrea\\anaconda3\\lib\\site-packages (from spacy) (8.0.13)\n",
      "Requirement already satisfied: requests<3.0.0,>=2.13.0 in c:\\users\\hadjiandrea\\anaconda3\\lib\\site-packages (from spacy) (2.26.0)\n",
      "Requirement already satisfied: wasabi<1.1.0,>=0.8.1 in c:\\users\\hadjiandrea\\anaconda3\\lib\\site-packages (from spacy) (0.9.0)\n",
      "Requirement already satisfied: srsly<3.0.0,>=2.4.1 in c:\\users\\hadjiandrea\\anaconda3\\lib\\site-packages (from spacy) (2.4.2)\n",
      "Requirement already satisfied: langcodes<4.0.0,>=3.2.0 in c:\\users\\hadjiandrea\\anaconda3\\lib\\site-packages (from spacy) (3.3.0)\n",
      "Requirement already satisfied: murmurhash<1.1.0,>=0.28.0 in c:\\users\\hadjiandrea\\anaconda3\\lib\\site-packages (from spacy) (1.0.6)\n",
      "Requirement already satisfied: catalogue<2.1.0,>=2.0.6 in c:\\users\\hadjiandrea\\anaconda3\\lib\\site-packages (from spacy) (2.0.6)\n",
      "Requirement already satisfied: jinja2 in c:\\users\\hadjiandrea\\anaconda3\\lib\\site-packages (from spacy) (2.11.3)\n",
      "Requirement already satisfied: typer<0.5.0,>=0.3.0 in c:\\users\\hadjiandrea\\anaconda3\\lib\\site-packages (from spacy) (0.4.0)\n",
      "Requirement already satisfied: spacy-loggers<2.0.0,>=1.0.0 in c:\\users\\hadjiandrea\\anaconda3\\lib\\site-packages (from spacy) (1.0.1)\n",
      "Requirement already satisfied: spacy-legacy<3.1.0,>=3.0.8 in c:\\users\\hadjiandrea\\anaconda3\\lib\\site-packages (from spacy) (3.0.8)\n",
      "Requirement already satisfied: tqdm<5.0.0,>=4.38.0 in c:\\users\\hadjiandrea\\anaconda3\\lib\\site-packages (from spacy) (4.62.3)\n",
      "Requirement already satisfied: packaging>=20.0 in c:\\users\\hadjiandrea\\anaconda3\\lib\\site-packages (from spacy) (21.0)\n",
      "Requirement already satisfied: numpy>=1.15.0 in c:\\users\\hadjiandrea\\anaconda3\\lib\\site-packages (from spacy) (1.20.3)\n",
      "Requirement already satisfied: setuptools in c:\\users\\hadjiandrea\\anaconda3\\lib\\site-packages (from spacy) (58.0.4)\n",
      "Requirement already satisfied: pyparsing>=2.0.2 in c:\\users\\hadjiandrea\\anaconda3\\lib\\site-packages (from packaging>=20.0->spacy) (3.0.4)\n",
      "Requirement already satisfied: smart-open<6.0.0,>=5.0.0 in c:\\users\\hadjiandrea\\anaconda3\\lib\\site-packages (from pathy>=0.3.5->spacy) (5.2.1)\n",
      "Requirement already satisfied: typing-extensions>=3.7.4.3 in c:\\users\\hadjiandrea\\anaconda3\\lib\\site-packages (from pydantic!=1.8,!=1.8.1,<1.9.0,>=1.7.4->spacy) (3.10.0.2)\n",
      "Requirement already satisfied: idna<4,>=2.5 in c:\\users\\hadjiandrea\\anaconda3\\lib\\site-packages (from requests<3.0.0,>=2.13.0->spacy) (3.2)\n",
      "Requirement already satisfied: certifi>=2017.4.17 in c:\\users\\hadjiandrea\\anaconda3\\lib\\site-packages (from requests<3.0.0,>=2.13.0->spacy) (2021.10.8)\n",
      "Requirement already satisfied: urllib3<1.27,>=1.21.1 in c:\\users\\hadjiandrea\\anaconda3\\lib\\site-packages (from requests<3.0.0,>=2.13.0->spacy) (1.26.7)\n",
      "Requirement already satisfied: charset-normalizer~=2.0.0 in c:\\users\\hadjiandrea\\anaconda3\\lib\\site-packages (from requests<3.0.0,>=2.13.0->spacy) (2.0.4)\n",
      "Requirement already satisfied: colorama in c:\\users\\hadjiandrea\\anaconda3\\lib\\site-packages (from tqdm<5.0.0,>=4.38.0->spacy) (0.4.4)\n",
      "Requirement already satisfied: click<9.0.0,>=7.1.1 in c:\\users\\hadjiandrea\\anaconda3\\lib\\site-packages (from typer<0.5.0,>=0.3.0->spacy) (8.0.3)\n",
      "Requirement already satisfied: MarkupSafe>=0.23 in c:\\users\\hadjiandrea\\anaconda3\\lib\\site-packages (from jinja2->spacy) (1.1.1)\n",
      "Requirement already satisfied: spacy in c:\\users\\hadjiandrea\\anaconda3\\lib\\site-packages (3.2.1)\n",
      "Requirement already satisfied: unidecode in c:\\users\\hadjiandrea\\anaconda3\\lib\\site-packages (1.3.2)\n",
      "Requirement already satisfied: wasabi<1.1.0,>=0.8.1 in c:\\users\\hadjiandrea\\anaconda3\\lib\\site-packages (from spacy) (0.9.0)\n",
      "Requirement already satisfied: typer<0.5.0,>=0.3.0 in c:\\users\\hadjiandrea\\anaconda3\\lib\\site-packages (from spacy) (0.4.0)\n",
      "Requirement already satisfied: langcodes<4.0.0,>=3.2.0 in c:\\users\\hadjiandrea\\anaconda3\\lib\\site-packages (from spacy) (3.3.0)\n",
      "Requirement already satisfied: cymem<2.1.0,>=2.0.2 in c:\\users\\hadjiandrea\\anaconda3\\lib\\site-packages (from spacy) (2.0.6)\n",
      "Requirement already satisfied: jinja2 in c:\\users\\hadjiandrea\\anaconda3\\lib\\site-packages (from spacy) (2.11.3)\n",
      "Requirement already satisfied: pydantic!=1.8,!=1.8.1,<1.9.0,>=1.7.4 in c:\\users\\hadjiandrea\\anaconda3\\lib\\site-packages (from spacy) (1.8.2)\n",
      "Requirement already satisfied: requests<3.0.0,>=2.13.0 in c:\\users\\hadjiandrea\\anaconda3\\lib\\site-packages (from spacy) (2.26.0)\n",
      "Requirement already satisfied: pathy>=0.3.5 in c:\\users\\hadjiandrea\\anaconda3\\lib\\site-packages (from spacy) (0.6.1)\n",
      "Requirement already satisfied: spacy-loggers<2.0.0,>=1.0.0 in c:\\users\\hadjiandrea\\anaconda3\\lib\\site-packages (from spacy) (1.0.1)\n",
      "Requirement already satisfied: srsly<3.0.0,>=2.4.1 in c:\\users\\hadjiandrea\\anaconda3\\lib\\site-packages (from spacy) (2.4.2)\n",
      "Requirement already satisfied: thinc<8.1.0,>=8.0.12 in c:\\users\\hadjiandrea\\anaconda3\\lib\\site-packages (from spacy) (8.0.13)\n",
      "Requirement already satisfied: numpy>=1.15.0 in c:\\users\\hadjiandrea\\anaconda3\\lib\\site-packages (from spacy) (1.20.3)\n",
      "Requirement already satisfied: spacy-legacy<3.1.0,>=3.0.8 in c:\\users\\hadjiandrea\\anaconda3\\lib\\site-packages (from spacy) (3.0.8)\n",
      "Requirement already satisfied: setuptools in c:\\users\\hadjiandrea\\anaconda3\\lib\\site-packages (from spacy) (58.0.4)\n",
      "Requirement already satisfied: preshed<3.1.0,>=3.0.2 in c:\\users\\hadjiandrea\\anaconda3\\lib\\site-packages (from spacy) (3.0.6)\n",
      "Requirement already satisfied: catalogue<2.1.0,>=2.0.6 in c:\\users\\hadjiandrea\\anaconda3\\lib\\site-packages (from spacy) (2.0.6)\n",
      "Requirement already satisfied: packaging>=20.0 in c:\\users\\hadjiandrea\\anaconda3\\lib\\site-packages (from spacy) (21.0)\n",
      "Requirement already satisfied: blis<0.8.0,>=0.4.0 in c:\\users\\hadjiandrea\\anaconda3\\lib\\site-packages (from spacy) (0.7.5)\n",
      "Requirement already satisfied: tqdm<5.0.0,>=4.38.0 in c:\\users\\hadjiandrea\\anaconda3\\lib\\site-packages (from spacy) (4.62.3)\n",
      "Requirement already satisfied: murmurhash<1.1.0,>=0.28.0 in c:\\users\\hadjiandrea\\anaconda3\\lib\\site-packages (from spacy) (1.0.6)\n",
      "Requirement already satisfied: pyparsing>=2.0.2 in c:\\users\\hadjiandrea\\anaconda3\\lib\\site-packages (from packaging>=20.0->spacy) (3.0.4)\n",
      "Requirement already satisfied: smart-open<6.0.0,>=5.0.0 in c:\\users\\hadjiandrea\\anaconda3\\lib\\site-packages (from pathy>=0.3.5->spacy) (5.2.1)\n",
      "Requirement already satisfied: typing-extensions>=3.7.4.3 in c:\\users\\hadjiandrea\\anaconda3\\lib\\site-packages (from pydantic!=1.8,!=1.8.1,<1.9.0,>=1.7.4->spacy) (3.10.0.2)\n",
      "Requirement already satisfied: urllib3<1.27,>=1.21.1 in c:\\users\\hadjiandrea\\anaconda3\\lib\\site-packages (from requests<3.0.0,>=2.13.0->spacy) (1.26.7)\n",
      "Requirement already satisfied: idna<4,>=2.5 in c:\\users\\hadjiandrea\\anaconda3\\lib\\site-packages (from requests<3.0.0,>=2.13.0->spacy) (3.2)\n",
      "Requirement already satisfied: certifi>=2017.4.17 in c:\\users\\hadjiandrea\\anaconda3\\lib\\site-packages (from requests<3.0.0,>=2.13.0->spacy) (2021.10.8)\n",
      "Requirement already satisfied: charset-normalizer~=2.0.0 in c:\\users\\hadjiandrea\\anaconda3\\lib\\site-packages (from requests<3.0.0,>=2.13.0->spacy) (2.0.4)\n",
      "Requirement already satisfied: colorama in c:\\users\\hadjiandrea\\anaconda3\\lib\\site-packages (from tqdm<5.0.0,>=4.38.0->spacy) (0.4.4)\n",
      "Requirement already satisfied: click<9.0.0,>=7.1.1 in c:\\users\\hadjiandrea\\anaconda3\\lib\\site-packages (from typer<0.5.0,>=0.3.0->spacy) (8.0.3)\n",
      "Requirement already satisfied: MarkupSafe>=0.23 in c:\\users\\hadjiandrea\\anaconda3\\lib\\site-packages (from jinja2->spacy) (1.1.1)\n"
     ]
    },
    {
     "name": "stderr",
     "output_type": "stream",
     "text": [
      "[nltk_data] Downloading package wordnet to\n",
      "[nltk_data]     C:\\Users\\hadjiandrea\\AppData\\Roaming\\nltk_data...\n",
      "[nltk_data]   Package wordnet is already up-to-date!\n",
      "[nltk_data] Downloading package words to\n",
      "[nltk_data]     C:\\Users\\hadjiandrea\\AppData\\Roaming\\nltk_data...\n",
      "[nltk_data]   Package words is already up-to-date!\n",
      "[nltk_data] Downloading package punkt to\n",
      "[nltk_data]     C:\\Users\\hadjiandrea\\AppData\\Roaming\\nltk_data...\n",
      "[nltk_data]   Package punkt is already up-to-date!\n"
     ]
    },
    {
     "name": "stdout",
     "output_type": "stream",
     "text": [
      "Requirement already satisfied: pyquery in c:\\users\\hadjiandrea\\anaconda3\\lib\\site-packages (1.4.3)\n",
      "Requirement already satisfied: cssselect>0.7.9 in c:\\users\\hadjiandrea\\anaconda3\\lib\\site-packages (from pyquery) (1.1.0)\n",
      "Requirement already satisfied: lxml>=2.1 in c:\\users\\hadjiandrea\\anaconda3\\lib\\site-packages (from pyquery) (4.6.3)\n",
      "Requirement already satisfied: gensim in c:\\users\\hadjiandrea\\anaconda3\\lib\\site-packages (4.1.2)\n",
      "Requirement already satisfied: scipy>=0.18.1 in c:\\users\\hadjiandrea\\anaconda3\\lib\\site-packages (from gensim) (1.7.1)\n",
      "Requirement already satisfied: numpy>=1.17.0 in c:\\users\\hadjiandrea\\anaconda3\\lib\\site-packages (from gensim) (1.20.3)\n",
      "Requirement already satisfied: Cython==0.29.23 in c:\\users\\hadjiandrea\\anaconda3\\lib\\site-packages (from gensim) (0.29.23)\n",
      "Requirement already satisfied: smart-open>=1.8.1 in c:\\users\\hadjiandrea\\anaconda3\\lib\\site-packages (from gensim) (5.2.1)\n",
      "Requirement already satisfied: textblob in c:\\users\\hadjiandrea\\anaconda3\\lib\\site-packages (0.17.1)\n",
      "Requirement already satisfied: nltk>=3.1 in c:\\users\\hadjiandrea\\anaconda3\\lib\\site-packages (from textblob) (3.6.5)\n",
      "Requirement already satisfied: click in c:\\users\\hadjiandrea\\anaconda3\\lib\\site-packages (from nltk>=3.1->textblob) (8.0.3)\n",
      "Requirement already satisfied: joblib in c:\\users\\hadjiandrea\\anaconda3\\lib\\site-packages (from nltk>=3.1->textblob) (1.1.0)\n",
      "Requirement already satisfied: regex>=2021.8.3 in c:\\users\\hadjiandrea\\anaconda3\\lib\\site-packages (from nltk>=3.1->textblob) (2021.8.3)\n",
      "Requirement already satisfied: tqdm in c:\\users\\hadjiandrea\\anaconda3\\lib\\site-packages (from nltk>=3.1->textblob) (4.62.3)\n",
      "Requirement already satisfied: colorama in c:\\users\\hadjiandrea\\anaconda3\\lib\\site-packages (from click->nltk>=3.1->textblob) (0.4.4)\n"
     ]
    }
   ],
   "source": [
    "!pip install spacy\n",
    "import spacy\n",
    "import string\n",
    "import re\n",
    "import itertools\n",
    "import csv\n",
    "import shutil\n",
    "import matplotlib.pyplot as plt\n",
    "import zipfile\n",
    "import lzma\n",
    "import json\n",
    "import requests\n",
    "import os\n",
    "import xml.etree.cElementTree as ET\n",
    "import pandas as pd\n",
    "import numpy as np\n",
    "import seaborn as sns\n",
    "import random\n",
    "from nltk.corpus import stopwords \n",
    "\n",
    "!pip install -U spacy unidecode\n",
    "\n",
    "from unidecode import unidecode\n",
    "from spacy.matcher import Matcher \n",
    "from spacy import displacy \n",
    "from IPython.display import Image, display\n",
    "import nltk\n",
    "nltk.download('wordnet')\n",
    "nltk.download('words')\n",
    "nltk.download('punkt')\n",
    "\n",
    "from nltk import word_tokenize\n",
    "from nltk.stem import WordNetLemmatizer\n",
    "from nltk.util import skipgrams\n",
    "from nltk.corpus import wordnet as wn\n",
    "from spacy.lang.en import English\n",
    "\n",
    "from tqdm import tqdm\n",
    "from ipywidgets import FloatProgress\n",
    "%matplotlib inline\n",
    "\n",
    "\n",
    "!pip install pyquery\n",
    "!pip install -U gensim\n",
    "\n",
    "import gensim\n",
    "#import pyLDAvis.gensim\n",
    "import pickle\n",
    "from gensim import corpora\n",
    "from gensim.parsing.preprocessing import remove_stopwords\n",
    "from gensim.parsing.preprocessing import strip_non_alphanum\n",
    "from gensim.models import CoherenceModel\n",
    "\n",
    "!pip install -U textblob\n",
    "from textblob import TextBlob"
   ]
  },
  {
   "cell_type": "markdown",
   "metadata": {},
   "source": [
    "###  Word Frequency over time"
   ]
  },
  {
   "cell_type": "markdown",
   "metadata": {},
   "source": [
    "### Weapons topic"
   ]
  },
  {
   "cell_type": "code",
   "execution_count": null,
   "metadata": {},
   "outputs": [],
   "source": [
    "#Reload save pkl file\n",
    "with open('weapons.pkl', 'rb') as f:\n",
    "    weapons = pickle.load(f)"
   ]
  },
  {
   "cell_type": "code",
   "execution_count": 15,
   "metadata": {},
   "outputs": [
    {
     "data": {
      "text/html": [
       "<div>\n",
       "<style scoped>\n",
       "    .dataframe tbody tr th:only-of-type {\n",
       "        vertical-align: middle;\n",
       "    }\n",
       "\n",
       "    .dataframe tbody tr th {\n",
       "        vertical-align: top;\n",
       "    }\n",
       "\n",
       "    .dataframe thead th {\n",
       "        text-align: right;\n",
       "    }\n",
       "</style>\n",
       "<table border=\"1\" class=\"dataframe\">\n",
       "  <thead>\n",
       "    <tr style=\"text-align: right;\">\n",
       "      <th></th>\n",
       "      <th>id</th>\n",
       "      <th>year</th>\n",
       "      <th>name</th>\n",
       "      <th>citation</th>\n",
       "      <th>court</th>\n",
       "      <th>author</th>\n",
       "      <th>type</th>\n",
       "      <th>text</th>\n",
       "    </tr>\n",
       "  </thead>\n",
       "  <tbody>\n",
       "    <tr>\n",
       "      <th>0</th>\n",
       "      <td>1156845</td>\n",
       "      <td>1996-03-27</td>\n",
       "      <td>elsie ghere, widow of jim ghere, deceased, app...</td>\n",
       "      <td>278 ill. app. 3d 840</td>\n",
       "      <td>illinois appellate court</td>\n",
       "      <td>justice colwell</td>\n",
       "      <td>majority</td>\n",
       "      <td>justice colwell\\ndelivered the opinion of the ...</td>\n",
       "    </tr>\n",
       "    <tr>\n",
       "      <th>1</th>\n",
       "      <td>1156786</td>\n",
       "      <td>1996-02-16</td>\n",
       "      <td>robert l. o'neil et al., plaintiffs-appellees ...</td>\n",
       "      <td>278 ill. app. 3d 327</td>\n",
       "      <td>illinois appellate court</td>\n",
       "      <td>presiding justice zwick</td>\n",
       "      <td>majority</td>\n",
       "      <td>presiding justice zwick\\ndelivered the opinion...</td>\n",
       "    </tr>\n",
       "    <tr>\n",
       "      <th>2</th>\n",
       "      <td>1156800</td>\n",
       "      <td>1996-02-26</td>\n",
       "      <td>in re l.n., a minor (the people of the state o...</td>\n",
       "      <td>278 ill. app. 3d 46</td>\n",
       "      <td>illinois appellate court</td>\n",
       "      <td>justice slater</td>\n",
       "      <td>majority</td>\n",
       "      <td>justice slater\\ndelivered the opinion of the c...</td>\n",
       "    </tr>\n",
       "    <tr>\n",
       "      <th>3</th>\n",
       "      <td>1156841</td>\n",
       "      <td>1996-02-13</td>\n",
       "      <td>the people of the state of illinois, plaintiff...</td>\n",
       "      <td>278 ill. app. 3d 218</td>\n",
       "      <td>illinois appellate court</td>\n",
       "      <td>justice scariano</td>\n",
       "      <td>majority</td>\n",
       "      <td>justice scariano\\ndelivered the opinion of the...</td>\n",
       "    </tr>\n",
       "    <tr>\n",
       "      <th>4</th>\n",
       "      <td>1156843</td>\n",
       "      <td>1996-03-28</td>\n",
       "      <td>robert alan shramuk, plaintiff-appellant, v. c...</td>\n",
       "      <td>278 ill. app. 3d 745</td>\n",
       "      <td>illinois appellate court</td>\n",
       "      <td>justice geiger</td>\n",
       "      <td>majority</td>\n",
       "      <td>justice geiger\\ndelivered the opinion of the c...</td>\n",
       "    </tr>\n",
       "  </tbody>\n",
       "</table>\n",
       "</div>"
      ],
      "text/plain": [
       "        id        year                                               name  \\\n",
       "0  1156845  1996-03-27  elsie ghere, widow of jim ghere, deceased, app...   \n",
       "1  1156786  1996-02-16  robert l. o'neil et al., plaintiffs-appellees ...   \n",
       "2  1156800  1996-02-26  in re l.n., a minor (the people of the state o...   \n",
       "3  1156841  1996-02-13  the people of the state of illinois, plaintiff...   \n",
       "4  1156843  1996-03-28  robert alan shramuk, plaintiff-appellant, v. c...   \n",
       "\n",
       "               citation                     court                   author  \\\n",
       "0  278 ill. app. 3d 840  illinois appellate court          justice colwell   \n",
       "1  278 ill. app. 3d 327  illinois appellate court  presiding justice zwick   \n",
       "2   278 ill. app. 3d 46  illinois appellate court           justice slater   \n",
       "3  278 ill. app. 3d 218  illinois appellate court         justice scariano   \n",
       "4  278 ill. app. 3d 745  illinois appellate court           justice geiger   \n",
       "\n",
       "       type                                               text  \n",
       "0  majority  justice colwell\\ndelivered the opinion of the ...  \n",
       "1  majority  presiding justice zwick\\ndelivered the opinion...  \n",
       "2  majority  justice slater\\ndelivered the opinion of the c...  \n",
       "3  majority  justice scariano\\ndelivered the opinion of the...  \n",
       "4  majority  justice geiger\\ndelivered the opinion of the c...  "
      ]
     },
     "execution_count": 15,
     "metadata": {},
     "output_type": "execute_result"
    }
   ],
   "source": [
    "weapons.head(5)"
   ]
  },
  {
   "cell_type": "code",
   "execution_count": 17,
   "metadata": {},
   "outputs": [],
   "source": [
    "opinion_year = weapons[['year', 'text']]"
   ]
  },
  {
   "cell_type": "code",
   "execution_count": 18,
   "metadata": {},
   "outputs": [
    {
     "data": {
      "text/html": [
       "<div>\n",
       "<style scoped>\n",
       "    .dataframe tbody tr th:only-of-type {\n",
       "        vertical-align: middle;\n",
       "    }\n",
       "\n",
       "    .dataframe tbody tr th {\n",
       "        vertical-align: top;\n",
       "    }\n",
       "\n",
       "    .dataframe thead th {\n",
       "        text-align: right;\n",
       "    }\n",
       "</style>\n",
       "<table border=\"1\" class=\"dataframe\">\n",
       "  <thead>\n",
       "    <tr style=\"text-align: right;\">\n",
       "      <th></th>\n",
       "      <th>year</th>\n",
       "      <th>text</th>\n",
       "    </tr>\n",
       "  </thead>\n",
       "  <tbody>\n",
       "    <tr>\n",
       "      <th>0</th>\n",
       "      <td>1996-03-27</td>\n",
       "      <td>justice colwell\\ndelivered the opinion of the ...</td>\n",
       "    </tr>\n",
       "    <tr>\n",
       "      <th>1</th>\n",
       "      <td>1996-02-16</td>\n",
       "      <td>presiding justice zwick\\ndelivered the opinion...</td>\n",
       "    </tr>\n",
       "    <tr>\n",
       "      <th>2</th>\n",
       "      <td>1996-02-26</td>\n",
       "      <td>justice slater\\ndelivered the opinion of the c...</td>\n",
       "    </tr>\n",
       "    <tr>\n",
       "      <th>3</th>\n",
       "      <td>1996-02-13</td>\n",
       "      <td>justice scariano\\ndelivered the opinion of the...</td>\n",
       "    </tr>\n",
       "    <tr>\n",
       "      <th>4</th>\n",
       "      <td>1996-03-28</td>\n",
       "      <td>justice geiger\\ndelivered the opinion of the c...</td>\n",
       "    </tr>\n",
       "  </tbody>\n",
       "</table>\n",
       "</div>"
      ],
      "text/plain": [
       "         year                                               text\n",
       "0  1996-03-27  justice colwell\\ndelivered the opinion of the ...\n",
       "1  1996-02-16  presiding justice zwick\\ndelivered the opinion...\n",
       "2  1996-02-26  justice slater\\ndelivered the opinion of the c...\n",
       "3  1996-02-13  justice scariano\\ndelivered the opinion of the...\n",
       "4  1996-03-28  justice geiger\\ndelivered the opinion of the c..."
      ]
     },
     "execution_count": 18,
     "metadata": {},
     "output_type": "execute_result"
    }
   ],
   "source": [
    "opinion_year.head(5)"
   ]
  },
  {
   "cell_type": "code",
   "execution_count": null,
   "metadata": {},
   "outputs": [],
   "source": [
    "with open(\"opinion_year.pkl\", \"wb\") as f:\n",
    "    pickle.dump(opinion_year, f)"
   ]
  },
  {
   "cell_type": "code",
   "execution_count": 3,
   "metadata": {},
   "outputs": [],
   "source": [
    "#Reload save pkl file\n",
    "with open('opinion_year.pkl', 'rb') as f:\n",
    "    opinion_year = pickle.load(f)"
   ]
  },
  {
   "cell_type": "code",
   "execution_count": 4,
   "metadata": {},
   "outputs": [
    {
     "data": {
      "text/plain": [
       "year\n",
       "1996-03-27    justice colwell\\ndelivered the opinion of the ...\n",
       "1996-02-16    presiding justice zwick\\ndelivered the opinion...\n",
       "1996-02-26    justice slater\\ndelivered the opinion of the c...\n",
       "1996-02-13    justice scariano\\ndelivered the opinion of the...\n",
       "1996-03-28    justice geiger\\ndelivered the opinion of the c...\n",
       "Name: text, dtype: object"
      ]
     },
     "execution_count": 4,
     "metadata": {},
     "output_type": "execute_result"
    }
   ],
   "source": [
    "#Convert publish_date into datetime64 format. Sort by date\n",
    "\n",
    "reindexed_data = opinion_year['text']\n",
    "reindexed_data.index = opinion_year['year']\n",
    "reindexed_data.head()"
   ]
  },
  {
   "cell_type": "code",
   "execution_count": 6,
   "metadata": {},
   "outputs": [],
   "source": [
    "drug = [0]*reindexed_data.shape[0]\n",
    "nonnarcotic = [0]*reindexed_data.shape[0]\n",
    "marijuana = [0]*reindexed_data.shape[0]\n",
    "heroin = [0]*reindexed_data.shape[0]\n",
    "amphetamine = [0]*reindexed_data.shape[0]\n",
    "narcotic = [0]*reindexed_data.shape[0]\n",
    "peyote = [0]*reindexed_data.shape[0]\n",
    "ecstasy = [0]*reindexed_data.shape[0]\n",
    "codeine = [0]*reindexed_data.shape[0]"
   ]
  },
  {
   "cell_type": "code",
   "execution_count": 7,
   "metadata": {},
   "outputs": [
    {
     "data": {
      "text/html": [
       "<div>\n",
       "<style scoped>\n",
       "    .dataframe tbody tr th:only-of-type {\n",
       "        vertical-align: middle;\n",
       "    }\n",
       "\n",
       "    .dataframe tbody tr th {\n",
       "        vertical-align: top;\n",
       "    }\n",
       "\n",
       "    .dataframe thead th {\n",
       "        text-align: right;\n",
       "    }\n",
       "</style>\n",
       "<table border=\"1\" class=\"dataframe\">\n",
       "  <thead>\n",
       "    <tr style=\"text-align: right;\">\n",
       "      <th></th>\n",
       "      <th>text</th>\n",
       "      <th>nonnarcotic</th>\n",
       "      <th>drug</th>\n",
       "      <th>marijuana</th>\n",
       "      <th>heroin</th>\n",
       "      <th>amphetamine</th>\n",
       "      <th>narcotic</th>\n",
       "      <th>peyote</th>\n",
       "      <th>ecstasy</th>\n",
       "      <th>codeine</th>\n",
       "    </tr>\n",
       "    <tr>\n",
       "      <th>year</th>\n",
       "      <th></th>\n",
       "      <th></th>\n",
       "      <th></th>\n",
       "      <th></th>\n",
       "      <th></th>\n",
       "      <th></th>\n",
       "      <th></th>\n",
       "      <th></th>\n",
       "      <th></th>\n",
       "      <th></th>\n",
       "    </tr>\n",
       "  </thead>\n",
       "  <tbody>\n",
       "    <tr>\n",
       "      <th>1996-03-27</th>\n",
       "      <td>justice colwell\\ndelivered the opinion of the ...</td>\n",
       "      <td>0</td>\n",
       "      <td>0</td>\n",
       "      <td>0</td>\n",
       "      <td>0</td>\n",
       "      <td>0</td>\n",
       "      <td>0</td>\n",
       "      <td>0</td>\n",
       "      <td>0</td>\n",
       "      <td>0</td>\n",
       "    </tr>\n",
       "    <tr>\n",
       "      <th>1996-02-16</th>\n",
       "      <td>presiding justice zwick\\ndelivered the opinion...</td>\n",
       "      <td>0</td>\n",
       "      <td>1</td>\n",
       "      <td>0</td>\n",
       "      <td>0</td>\n",
       "      <td>0</td>\n",
       "      <td>0</td>\n",
       "      <td>0</td>\n",
       "      <td>0</td>\n",
       "      <td>0</td>\n",
       "    </tr>\n",
       "    <tr>\n",
       "      <th>1996-02-26</th>\n",
       "      <td>justice slater\\ndelivered the opinion of the c...</td>\n",
       "      <td>0</td>\n",
       "      <td>0</td>\n",
       "      <td>0</td>\n",
       "      <td>0</td>\n",
       "      <td>0</td>\n",
       "      <td>0</td>\n",
       "      <td>0</td>\n",
       "      <td>0</td>\n",
       "      <td>0</td>\n",
       "    </tr>\n",
       "    <tr>\n",
       "      <th>1996-02-13</th>\n",
       "      <td>justice scariano\\ndelivered the opinion of the...</td>\n",
       "      <td>0</td>\n",
       "      <td>1</td>\n",
       "      <td>0</td>\n",
       "      <td>0</td>\n",
       "      <td>0</td>\n",
       "      <td>0</td>\n",
       "      <td>0</td>\n",
       "      <td>0</td>\n",
       "      <td>0</td>\n",
       "    </tr>\n",
       "    <tr>\n",
       "      <th>1996-03-28</th>\n",
       "      <td>justice geiger\\ndelivered the opinion of the c...</td>\n",
       "      <td>0</td>\n",
       "      <td>0</td>\n",
       "      <td>0</td>\n",
       "      <td>0</td>\n",
       "      <td>0</td>\n",
       "      <td>0</td>\n",
       "      <td>0</td>\n",
       "      <td>0</td>\n",
       "      <td>0</td>\n",
       "    </tr>\n",
       "  </tbody>\n",
       "</table>\n",
       "</div>"
      ],
      "text/plain": [
       "                                                         text  nonnarcotic  \\\n",
       "year                                                                         \n",
       "1996-03-27  justice colwell\\ndelivered the opinion of the ...            0   \n",
       "1996-02-16  presiding justice zwick\\ndelivered the opinion...            0   \n",
       "1996-02-26  justice slater\\ndelivered the opinion of the c...            0   \n",
       "1996-02-13  justice scariano\\ndelivered the opinion of the...            0   \n",
       "1996-03-28  justice geiger\\ndelivered the opinion of the c...            0   \n",
       "\n",
       "            drug  marijuana  heroin  amphetamine  narcotic  peyote  ecstasy  \\\n",
       "year                                                                          \n",
       "1996-03-27     0          0       0            0         0       0        0   \n",
       "1996-02-16     1          0       0            0         0       0        0   \n",
       "1996-02-26     0          0       0            0         0       0        0   \n",
       "1996-02-13     1          0       0            0         0       0        0   \n",
       "1996-03-28     0          0       0            0         0       0        0   \n",
       "\n",
       "            codeine  \n",
       "year                 \n",
       "1996-03-27        0  \n",
       "1996-02-16        0  \n",
       "1996-02-26        0  \n",
       "1996-02-13        0  \n",
       "1996-03-28        0  "
      ]
     },
     "execution_count": 7,
     "metadata": {},
     "output_type": "execute_result"
    }
   ],
   "source": [
    "for i in range(reindexed_data.shape[0]):\n",
    "    words = TextBlob(reindexed_data[i]).words\n",
    "    for word in words:\n",
    "        if word == \"nonnarcotic\": nonnarcotic[i]=1\n",
    "        if word == \"drug\": drug[i]=1\n",
    "        if word == \"marijuana\": marijuana[i]=1\n",
    "        if word == \"heroin\": heroin[i]=1\n",
    "        if word == \"amphetamine\": amphetamine[i]=1\n",
    "        if word == \"narcotic\": narcotic[i]=1\n",
    "        if word == \"peyote\": peyote[i]=1\n",
    "        if word == \"ecstasy\": ecstasy[i]=1\n",
    "        if word == \"codeine\": codeine[i]=1\n",
    "keywords3 = pd.DataFrame({'text':reindexed_data,\n",
    "                        'nonnarcotic':nonnarcotic,\n",
    "                        'drug':drug,\n",
    "                        'marijuana':marijuana,\n",
    "                        'heroin':heroin,\n",
    "                        'amphetamine':amphetamine,\n",
    "                        'narcotic':narcotic,\n",
    "                        'peyote':peyote,\n",
    "                        'ecstasy':ecstasy,\n",
    "                        'codeine':codeine},\n",
    "                        index=reindexed_data.index)\n",
    "keywords3.head()"
   ]
  },
  {
   "cell_type": "code",
   "execution_count": 8,
   "metadata": {},
   "outputs": [],
   "source": [
    "keywords3.index =  pd.to_datetime(keywords3.index)"
   ]
  },
  {
   "cell_type": "code",
   "execution_count": 9,
   "metadata": {},
   "outputs": [],
   "source": [
    "with open(\"keywords3.pkl\", \"wb\") as f:\n",
    "    pickle.dump(keywords3, f)"
   ]
  },
  {
   "cell_type": "code",
   "execution_count": 9,
   "metadata": {},
   "outputs": [],
   "source": [
    "#Reload save pkl file\n",
    "with open('keywords3.pkl', 'rb') as f:\n",
    "    keywords3 = pickle.load(f)"
   ]
  },
  {
   "cell_type": "code",
   "execution_count": 10,
   "metadata": {},
   "outputs": [
    {
     "name": "stdout",
     "output_type": "stream",
     "text": [
      "            nonnarcotic  drug  marijuana  heroin  amphetamine  narcotic  \\\n",
      "year                                                                      \n",
      "1771-10-31            0     0          0       0            0         0   \n",
      "1771-11-30            0     0          0       0            0         0   \n",
      "1771-12-31            0     0          0       0            0         0   \n",
      "1772-01-31            0     0          0       0            0         0   \n",
      "1772-02-29            0     0          0       0            0         0   \n",
      "...                 ...   ...        ...     ...          ...       ...   \n",
      "2019-03-31            0    11          4       2            0         0   \n",
      "2019-04-30            0     8          3       2            0         0   \n",
      "2019-05-31            0     4          4       1            0         0   \n",
      "2019-06-30            0     2          3       1            0         1   \n",
      "2019-07-31            0     2          3       0            0         0   \n",
      "\n",
      "            peyote  ecstasy  codeine  \n",
      "year                                  \n",
      "1771-10-31       0        0        0  \n",
      "1771-11-30       0        0        0  \n",
      "1771-12-31       0        0        0  \n",
      "1772-01-31       0        0        0  \n",
      "1772-02-29       0        0        0  \n",
      "...            ...      ...      ...  \n",
      "2019-03-31       0        0        0  \n",
      "2019-04-30       0        0        0  \n",
      "2019-05-31       0        0        0  \n",
      "2019-06-30       0        0        0  \n",
      "2019-07-31       0        0        0  \n",
      "\n",
      "[2974 rows x 9 columns]\n"
     ]
    }
   ],
   "source": [
    "#Aggregate monthly frequency for keywords\n",
    "monthly2 = keywords3.resample('M').sum()\n",
    "print(monthly2)"
   ]
  },
  {
   "cell_type": "code",
   "execution_count": 11,
   "metadata": {},
   "outputs": [
    {
     "data": {
      "image/png": "[encoded data removed]",
      "text/plain": [
       "<Figure size 1296x576 with 1 Axes>"
      ]
     },
     "metadata": {
      "needs_background": "light"
     },
     "output_type": "display_data"
    }
   ],
   "source": [
    "### Plot the frequency over time\n",
    "fig, ax = plt.subplots(figsize=(18,8))\n",
    "\n",
    "ax.plot(monthly2['drug'], label='drug');\n",
    "ax.plot(monthly2['nonnarcotic'], label='nonnarcotic');\n",
    "ax.plot(monthly2['marijuana'], label='marijuana');\n",
    "ax.plot(monthly2['heroin'], label='heroin');\n",
    "ax.plot(monthly2['amphetamine'], label='amphetamine');\n",
    "ax.plot(monthly2['narcotic'], label='narcotic');\n",
    "ax.plot(monthly2['peyote'], label='peyote');\n",
    "ax.plot(monthly2['ecstasy'], label='ecstasy');\n",
    "ax.plot(monthly2['codeine'], label='codeine');\n",
    "\n",
    "ax.set_title('Keywords Frequency over Time');\n",
    "ax.legend(loc='upper left');"
   ]
  },
  {
   "cell_type": "code",
   "execution_count": 11,
   "metadata": {},
   "outputs": [
    {
     "name": "stdout",
     "output_type": "stream",
     "text": [
      "            nonnarcotic  drug  marijuana  heroin  amphetamine  narcotic  \\\n",
      "year                                                                      \n",
      "1771-12-31            0     0          0       0            0         0   \n",
      "1772-12-31            0     0          0       0            0         0   \n",
      "1773-12-31            0     0          0       0            0         0   \n",
      "1774-12-31            0     0          0       0            0         0   \n",
      "1775-12-31            0     0          0       0            0         0   \n",
      "...                 ...   ...        ...     ...          ...       ...   \n",
      "2015-12-31            0     0          0       0            0         0   \n",
      "2016-12-31            0     0          0       0            0         0   \n",
      "2017-12-31            0    41         10       5            1         2   \n",
      "2018-12-31            0   131         47      26            1        11   \n",
      "2019-12-31            0    42         21       8            0         1   \n",
      "\n",
      "            peyote  ecstasy  codeine  \n",
      "year                                  \n",
      "1771-12-31       0        0        0  \n",
      "1772-12-31       0        0        0  \n",
      "1773-12-31       0        0        0  \n",
      "1774-12-31       0        0        0  \n",
      "1775-12-31       0        0        0  \n",
      "...            ...      ...      ...  \n",
      "2015-12-31       0        0        0  \n",
      "2016-12-31       0        0        0  \n",
      "2017-12-31       0        1        0  \n",
      "2018-12-31       0        5        2  \n",
      "2019-12-31       0        0        0  \n",
      "\n",
      "[249 rows x 9 columns]\n"
     ]
    }
   ],
   "source": [
    "yearly2 = keywords3.resample('A').sum()\n",
    "print(yearly2)"
   ]
  },
  {
   "cell_type": "code",
   "execution_count": 13,
   "metadata": {},
   "outputs": [
    {
     "data": {
      "image/png": "[encoded data removed]",
      "text/plain": [
       "<Figure size 1296x576 with 1 Axes>"
      ]
     },
     "metadata": {
      "needs_background": "light"
     },
     "output_type": "display_data"
    }
   ],
   "source": [
    "#Plot the frequency over time\n",
    "fig, ax = plt.subplots(figsize=(18,8))\n",
    "\n",
    "ax.plot(yearly2['drug'], label='drug');\n",
    "ax.plot(yearly2['nonnarcotic'], label='nonnarcotic');\n",
    "ax.plot(yearly2['marijuana'], label='marijuana');\n",
    "ax.plot(yearly2['heroin'], label='heroin');\n",
    "ax.plot(yearly2['amphetamine'], label='amphetamine');\n",
    "ax.plot(yearly2['narcotic'], label='narcotic');\n",
    "ax.plot(yearly2['peyote'], label='peyote');\n",
    "ax.plot(yearly2['ecstasy'], label='ecstasy');\n",
    "ax.plot(yearly2['codeine'], label='codeine');\n",
    "ax.set_title('Drug Keywords Frequency over Time');\n",
    "ax.legend(loc='upper left');"
   ]
  },
  {
   "cell_type": "markdown",
   "metadata": {},
   "source": [
    "### Drug topic"
   ]
  },
  {
   "cell_type": "code",
   "execution_count": null,
   "metadata": {},
   "outputs": [],
   "source": [
    "#Reload save pkl file\n",
    "with open('drug.pkl', 'rb') as f:\n",
    "    drug = pickle.load(f)"
   ]
  },
  {
   "cell_type": "code",
   "execution_count": null,
   "metadata": {},
   "outputs": [],
   "source": [
    "drug.head()"
   ]
  },
  {
   "cell_type": "code",
   "execution_count": null,
   "metadata": {},
   "outputs": [],
   "source": [
    "opinion_year_drug = drug[['year', 'text']]"
   ]
  },
  {
   "cell_type": "code",
   "execution_count": null,
   "metadata": {},
   "outputs": [],
   "source": [
    "opinion_year_drug.head()"
   ]
  },
  {
   "cell_type": "code",
   "execution_count": null,
   "metadata": {},
   "outputs": [],
   "source": [
    "with open(\"opinion_year_drug.pkl\", \"wb\") as f:\n",
    "    pickle.dump(opinion_year_drug, f)"
   ]
  },
  {
   "cell_type": "code",
   "execution_count": null,
   "metadata": {},
   "outputs": [],
   "source": [
    "#Reload save pkl file\n",
    "with open('opinion_year_drug.pkl', 'rb') as f:\n",
    "    opinion_year_drug = pickle.load(f)"
   ]
  },
  {
   "cell_type": "code",
   "execution_count": null,
   "metadata": {},
   "outputs": [],
   "source": [
    "#Convert publish_date into datetime64 format. Sort by date\n",
    "reindexed_data = opinion_year_drug['text']\n",
    "reindexed_data.index = opinion_year_drug['year']\n",
    "reindexed_data.head()"
   ]
  },
  {
   "cell_type": "code",
   "execution_count": 14,
   "metadata": {},
   "outputs": [
    {
     "data": {
      "text/plain": [
       "year\n",
       "1996-03-27    justice colwell\\ndelivered the opinion of the ...\n",
       "1996-02-16    presiding justice zwick\\ndelivered the opinion...\n",
       "1996-02-26    justice slater\\ndelivered the opinion of the c...\n",
       "1996-02-13    justice scariano\\ndelivered the opinion of the...\n",
       "1996-03-28    justice geiger\\ndelivered the opinion of the c...\n",
       "Name: text, dtype: object"
      ]
     },
     "execution_count": 14,
     "metadata": {},
     "output_type": "execute_result"
    }
   ],
   "source": [
    "reindexed_data = opinion_year_drug['text']\n",
    "reindexed_data.index = opinion_year_drug['year']\n",
    "reindexed_data.head()"
   ]
  },
  {
   "cell_type": "code",
   "execution_count": 15,
   "metadata": {},
   "outputs": [],
   "source": [
    "revolver = [0]*reindexed_data.shape[0]\n",
    "gun = [0]*reindexed_data.shape[0]\n",
    "shotgun = [0]*reindexed_data.shape[0]\n",
    "rifle = [0]*reindexed_data.shape[0]\n",
    "handgun = [0]*reindexed_data.shape[0]\n",
    "weapon = [0]*reindexed_data.shape[0]\n",
    "holster = [0]*reindexed_data.shape[0]\n",
    "semiautomatic = [0]*reindexed_data.shape[0]\n",
    "weapon = [0]*reindexed_data.shape[0]"
   ]
  },
  {
   "cell_type": "code",
   "execution_count": 16,
   "metadata": {},
   "outputs": [
    {
     "data": {
      "text/html": [
       "<div>\n",
       "<style scoped>\n",
       "    .dataframe tbody tr th:only-of-type {\n",
       "        vertical-align: middle;\n",
       "    }\n",
       "\n",
       "    .dataframe tbody tr th {\n",
       "        vertical-align: top;\n",
       "    }\n",
       "\n",
       "    .dataframe thead th {\n",
       "        text-align: right;\n",
       "    }\n",
       "</style>\n",
       "<table border=\"1\" class=\"dataframe\">\n",
       "  <thead>\n",
       "    <tr style=\"text-align: right;\">\n",
       "      <th></th>\n",
       "      <th>text</th>\n",
       "      <th>revolver</th>\n",
       "      <th>gun</th>\n",
       "      <th>shotgun</th>\n",
       "      <th>rifle</th>\n",
       "      <th>handgun</th>\n",
       "      <th>weapon</th>\n",
       "      <th>holster</th>\n",
       "      <th>semiautomatic</th>\n",
       "    </tr>\n",
       "    <tr>\n",
       "      <th>year</th>\n",
       "      <th></th>\n",
       "      <th></th>\n",
       "      <th></th>\n",
       "      <th></th>\n",
       "      <th></th>\n",
       "      <th></th>\n",
       "      <th></th>\n",
       "      <th></th>\n",
       "      <th></th>\n",
       "    </tr>\n",
       "  </thead>\n",
       "  <tbody>\n",
       "    <tr>\n",
       "      <th>1996-03-27</th>\n",
       "      <td>justice colwell\\ndelivered the opinion of the ...</td>\n",
       "      <td>0</td>\n",
       "      <td>0</td>\n",
       "      <td>0</td>\n",
       "      <td>0</td>\n",
       "      <td>0</td>\n",
       "      <td>0</td>\n",
       "      <td>0</td>\n",
       "      <td>0</td>\n",
       "    </tr>\n",
       "    <tr>\n",
       "      <th>1996-02-16</th>\n",
       "      <td>presiding justice zwick\\ndelivered the opinion...</td>\n",
       "      <td>0</td>\n",
       "      <td>0</td>\n",
       "      <td>0</td>\n",
       "      <td>0</td>\n",
       "      <td>0</td>\n",
       "      <td>0</td>\n",
       "      <td>0</td>\n",
       "      <td>0</td>\n",
       "    </tr>\n",
       "    <tr>\n",
       "      <th>1996-02-26</th>\n",
       "      <td>justice slater\\ndelivered the opinion of the c...</td>\n",
       "      <td>0</td>\n",
       "      <td>0</td>\n",
       "      <td>0</td>\n",
       "      <td>0</td>\n",
       "      <td>0</td>\n",
       "      <td>0</td>\n",
       "      <td>0</td>\n",
       "      <td>0</td>\n",
       "    </tr>\n",
       "    <tr>\n",
       "      <th>1996-02-13</th>\n",
       "      <td>justice scariano\\ndelivered the opinion of the...</td>\n",
       "      <td>0</td>\n",
       "      <td>0</td>\n",
       "      <td>0</td>\n",
       "      <td>0</td>\n",
       "      <td>0</td>\n",
       "      <td>0</td>\n",
       "      <td>0</td>\n",
       "      <td>0</td>\n",
       "    </tr>\n",
       "    <tr>\n",
       "      <th>1996-03-28</th>\n",
       "      <td>justice geiger\\ndelivered the opinion of the c...</td>\n",
       "      <td>0</td>\n",
       "      <td>0</td>\n",
       "      <td>0</td>\n",
       "      <td>0</td>\n",
       "      <td>0</td>\n",
       "      <td>0</td>\n",
       "      <td>0</td>\n",
       "      <td>0</td>\n",
       "    </tr>\n",
       "  </tbody>\n",
       "</table>\n",
       "</div>"
      ],
      "text/plain": [
       "                                                         text  revolver  gun  \\\n",
       "year                                                                           \n",
       "1996-03-27  justice colwell\\ndelivered the opinion of the ...         0    0   \n",
       "1996-02-16  presiding justice zwick\\ndelivered the opinion...         0    0   \n",
       "1996-02-26  justice slater\\ndelivered the opinion of the c...         0    0   \n",
       "1996-02-13  justice scariano\\ndelivered the opinion of the...         0    0   \n",
       "1996-03-28  justice geiger\\ndelivered the opinion of the c...         0    0   \n",
       "\n",
       "            shotgun  rifle  handgun  weapon  holster  semiautomatic  \n",
       "year                                                                 \n",
       "1996-03-27        0      0        0       0        0              0  \n",
       "1996-02-16        0      0        0       0        0              0  \n",
       "1996-02-26        0      0        0       0        0              0  \n",
       "1996-02-13        0      0        0       0        0              0  \n",
       "1996-03-28        0      0        0       0        0              0  "
      ]
     },
     "execution_count": 16,
     "metadata": {},
     "output_type": "execute_result"
    }
   ],
   "source": [
    "for i in range(reindexed_data.shape[0]):\n",
    "    words = TextBlob(reindexed_data[i]).words\n",
    "    for word in words:\n",
    "        if word == \"revolver\": revolver[i]=1\n",
    "        if word == \"gun\": gun[i]=1\n",
    "        if word == \"shotgun\": shotgun[i]=1\n",
    "        if word == \"rifle\": rifle[i]=1\n",
    "        if word == \"handgun\": handgun[i]=1\n",
    "        if word == \"weapon\": weapon[i]=1\n",
    "        if word == \"holster\": holster[i]=1\n",
    "        if word == \"semiautomatic\": semiautomatic[i]=1\n",
    "        if word == \"weapon\": weapon[i]=1\n",
    "keywords4 = pd.DataFrame({'text':reindexed_data,\n",
    "                        'revolver':revolver,\n",
    "                        'gun':gun,\n",
    "                        'shotgun':shotgun,\n",
    "                        'rifle':rifle,\n",
    "                        'handgun':handgun,\n",
    "                        'weapon':weapon,\n",
    "                        'holster':holster,\n",
    "                        'semiautomatic':semiautomatic,\n",
    "                        'weapon':weapon},\n",
    "                        index=reindexed_data.index)\n",
    "keywords4.head()"
   ]
  },
  {
   "cell_type": "code",
   "execution_count": 17,
   "metadata": {},
   "outputs": [],
   "source": [
    "keywords4.index =  pd.to_datetime(keywords4.index)"
   ]
  },
  {
   "cell_type": "code",
   "execution_count": 18,
   "metadata": {},
   "outputs": [],
   "source": [
    "with open(\"keywords4.pkl\", \"wb\") as f:\n",
    "    pickle.dump(keywords4, f)"
   ]
  },
  {
   "cell_type": "code",
   "execution_count": null,
   "metadata": {},
   "outputs": [],
   "source": [
    "#Reload save pkl file\n",
    "with open('keywords4.pkl', 'rb') as f:\n",
    "    keywords4 = pickle.load(f)"
   ]
  },
  {
   "cell_type": "code",
   "execution_count": 19,
   "metadata": {},
   "outputs": [
    {
     "name": "stdout",
     "output_type": "stream",
     "text": [
      "            revolver  gun  shotgun  rifle  handgun  weapon  holster  \\\n",
      "year                                                                  \n",
      "1771-10-31         1    1        0      0        0       0        0   \n",
      "1771-11-30         0    0        0      0        0       0        0   \n",
      "1771-12-31         0    0        0      0        0       0        0   \n",
      "1772-01-31         0    0        0      0        0       0        0   \n",
      "1772-02-29         0    0        0      0        0       0        0   \n",
      "...              ...  ...      ...    ...      ...     ...      ...   \n",
      "2019-03-31         4   12        1      0       12      16        0   \n",
      "2019-04-30         2    3        0      0        1       2        0   \n",
      "2019-05-31         2    4        1      1        1       4        0   \n",
      "2019-06-30         1    2        0      0        2       4        1   \n",
      "2019-07-31         0    0        1      0        0       0        0   \n",
      "\n",
      "            semiautomatic  \n",
      "year                       \n",
      "1771-10-31              0  \n",
      "1771-11-30              0  \n",
      "1771-12-31              0  \n",
      "1772-01-31              0  \n",
      "1772-02-29              0  \n",
      "...                   ...  \n",
      "2019-03-31              3  \n",
      "2019-04-30              0  \n",
      "2019-05-31              0  \n",
      "2019-06-30              0  \n",
      "2019-07-31              0  \n",
      "\n",
      "[2974 rows x 8 columns]\n"
     ]
    }
   ],
   "source": [
    "#Aggregate monthly frequency for keywords\n",
    "monthly2 = keywords4.resample('M').sum()\n",
    "print(monthly2)"
   ]
  },
  {
   "cell_type": "code",
   "execution_count": 20,
   "metadata": {},
   "outputs": [
    {
     "data": {
      "image/png": "[encoded data removed]",
      "text/plain": [
       "<Figure size 1296x576 with 1 Axes>"
      ]
     },
     "metadata": {
      "needs_background": "light"
     },
     "output_type": "display_data"
    }
   ],
   "source": [
    "### Plot the frequency over time\n",
    "fig, ax = plt.subplots(figsize=(18,8))\n",
    "\n",
    "ax.plot(monthly2['revolver'], label='revolver');\n",
    "ax.plot(monthly2['gun'], label='gun');\n",
    "ax.plot(monthly2['shotgun'], label='shotgun');\n",
    "ax.plot(monthly2['rifle'], label='rifle');\n",
    "ax.plot(monthly2['handgun'], label='handgun');\n",
    "ax.plot(monthly2['weapon'], label='weapon');\n",
    "ax.plot(monthly2['holster'], label='holster');\n",
    "ax.plot(monthly2['semiautomatic'], label='semiautomatic');\n",
    "ax.plot(monthly2['weapon'], label='weapon');\n",
    "\n",
    "ax.set_title('Keywords Frequency over Time');\n",
    "ax.legend(loc='upper left');"
   ]
  },
  {
   "cell_type": "code",
   "execution_count": 21,
   "metadata": {},
   "outputs": [
    {
     "name": "stdout",
     "output_type": "stream",
     "text": [
      "            revolver  gun  shotgun  rifle  handgun  weapon  holster  \\\n",
      "year                                                                  \n",
      "1771-12-31         1    1        0      0        0       0        0   \n",
      "1772-12-31         0    0        0      0        0       0        0   \n",
      "1773-12-31         0    0        0      0        0       0        0   \n",
      "1774-12-31         0    0        0      0        0       0        0   \n",
      "1775-12-31         0    0        0      0        0       0        0   \n",
      "...              ...  ...      ...    ...      ...     ...      ...   \n",
      "2015-12-31         0    0        0      0        0       0        0   \n",
      "2016-12-31         0    1        0      0        0       0        0   \n",
      "2017-12-31         9   39        1      2       17      33        0   \n",
      "2018-12-31        22   98        9      8       58     100        2   \n",
      "2019-12-31        11   30        4      1       19      33        1   \n",
      "\n",
      "            semiautomatic  \n",
      "year                       \n",
      "1771-12-31              0  \n",
      "1772-12-31              0  \n",
      "1773-12-31              0  \n",
      "1774-12-31              0  \n",
      "1775-12-31              0  \n",
      "...                   ...  \n",
      "2015-12-31              0  \n",
      "2016-12-31              0  \n",
      "2017-12-31              6  \n",
      "2018-12-31             14  \n",
      "2019-12-31              4  \n",
      "\n",
      "[249 rows x 8 columns]\n"
     ]
    }
   ],
   "source": [
    "yearly2 = keywords4.resample('A').sum()\n",
    "print(yearly2)"
   ]
  },
  {
   "cell_type": "code",
   "execution_count": 22,
   "metadata": {},
   "outputs": [
    {
     "data": {
      "image/png": "[encoded data removed]",
      "text/plain": [
       "<Figure size 1296x576 with 1 Axes>"
      ]
     },
     "metadata": {
      "needs_background": "light"
     },
     "output_type": "display_data"
    }
   ],
   "source": [
    "#Plot the frequency over time\n",
    "fig, ax = plt.subplots(figsize=(18,8))\n",
    "\n",
    "ax.plot(yearly2['revolver'], label='revolver');\n",
    "ax.plot(yearly2['gun'], label='gun');\n",
    "ax.plot(yearly2['shotgun'], label='shotgun');\n",
    "ax.plot(yearly2['rifle'], label='rifle');\n",
    "ax.plot(yearly2['handgun'], label='handgun');\n",
    "ax.plot(yearly2['weapon'], label='weapon');\n",
    "ax.plot(yearly2['holster'], label='holster');\n",
    "ax.plot(yearly2['semiautomatic'], label='semiautomatic');\n",
    "ax.plot(yearly2['weapon'], label='weapon');\n",
    "ax.set_title('Weapons Keywords Frequency over Time');\n",
    "ax.legend(loc='upper left');"
   ]
  },
  {
   "cell_type": "markdown",
   "metadata": {},
   "source": [
    "### Number of documents per year\n",
    "\n",
    "Try to explain the words frequency differences between year 1960-1980-2000. It seems like the words are more frequent because the number of court texts are bigger in 1980."
   ]
  },
  {
   "cell_type": "code",
   "execution_count": 45,
   "metadata": {},
   "outputs": [],
   "source": [
    "opinion_year_60 = keywords4.loc[\"1960\"]"
   ]
  },
  {
   "cell_type": "code",
   "execution_count": 46,
   "metadata": {},
   "outputs": [
    {
     "data": {
      "text/html": [
       "<div>\n",
       "<style scoped>\n",
       "    .dataframe tbody tr th:only-of-type {\n",
       "        vertical-align: middle;\n",
       "    }\n",
       "\n",
       "    .dataframe tbody tr th {\n",
       "        vertical-align: top;\n",
       "    }\n",
       "\n",
       "    .dataframe thead th {\n",
       "        text-align: right;\n",
       "    }\n",
       "</style>\n",
       "<table border=\"1\" class=\"dataframe\">\n",
       "  <thead>\n",
       "    <tr style=\"text-align: right;\">\n",
       "      <th></th>\n",
       "      <th>text</th>\n",
       "      <th>revolver</th>\n",
       "      <th>gun</th>\n",
       "      <th>shotgun</th>\n",
       "      <th>rifle</th>\n",
       "      <th>handgun</th>\n",
       "      <th>weapon</th>\n",
       "      <th>holster</th>\n",
       "      <th>semiautomatic</th>\n",
       "    </tr>\n",
       "    <tr>\n",
       "      <th>year</th>\n",
       "      <th></th>\n",
       "      <th></th>\n",
       "      <th></th>\n",
       "      <th></th>\n",
       "      <th></th>\n",
       "      <th></th>\n",
       "      <th></th>\n",
       "      <th></th>\n",
       "      <th></th>\n",
       "    </tr>\n",
       "  </thead>\n",
       "  <tbody>\n",
       "    <tr>\n",
       "      <th>1960-07-26</th>\n",
       "      <td>mr. justice bryant\\ndelivered the opinion of t...</td>\n",
       "      <td>0</td>\n",
       "      <td>0</td>\n",
       "      <td>0</td>\n",
       "      <td>0</td>\n",
       "      <td>0</td>\n",
       "      <td>0</td>\n",
       "      <td>0</td>\n",
       "      <td>0</td>\n",
       "    </tr>\n",
       "    <tr>\n",
       "      <th>1960-06-20</th>\n",
       "      <td>opinion by\\npresiding justice mcneal.\\nnot to ...</td>\n",
       "      <td>0</td>\n",
       "      <td>0</td>\n",
       "      <td>0</td>\n",
       "      <td>0</td>\n",
       "      <td>0</td>\n",
       "      <td>0</td>\n",
       "      <td>0</td>\n",
       "      <td>0</td>\n",
       "    </tr>\n",
       "    <tr>\n",
       "      <th>1960-05-24</th>\n",
       "      <td>opinion by\\njustice kiley.\\nnot to be publishe...</td>\n",
       "      <td>0</td>\n",
       "      <td>0</td>\n",
       "      <td>0</td>\n",
       "      <td>0</td>\n",
       "      <td>0</td>\n",
       "      <td>0</td>\n",
       "      <td>0</td>\n",
       "      <td>0</td>\n",
       "    </tr>\n",
       "    <tr>\n",
       "      <th>1960-07-26</th>\n",
       "      <td>opinion by\\njustice friend.\\nnot to be publish...</td>\n",
       "      <td>0</td>\n",
       "      <td>0</td>\n",
       "      <td>0</td>\n",
       "      <td>0</td>\n",
       "      <td>0</td>\n",
       "      <td>0</td>\n",
       "      <td>0</td>\n",
       "      <td>0</td>\n",
       "    </tr>\n",
       "    <tr>\n",
       "      <th>1960-07-01</th>\n",
       "      <td>mr. presiding justice kiley\\ndelivered the opi...</td>\n",
       "      <td>0</td>\n",
       "      <td>0</td>\n",
       "      <td>0</td>\n",
       "      <td>0</td>\n",
       "      <td>0</td>\n",
       "      <td>0</td>\n",
       "      <td>0</td>\n",
       "      <td>0</td>\n",
       "    </tr>\n",
       "  </tbody>\n",
       "</table>\n",
       "</div>"
      ],
      "text/plain": [
       "                                                         text  revolver  gun  \\\n",
       "year                                                                           \n",
       "1960-07-26  mr. justice bryant\\ndelivered the opinion of t...         0    0   \n",
       "1960-06-20  opinion by\\npresiding justice mcneal.\\nnot to ...         0    0   \n",
       "1960-05-24  opinion by\\njustice kiley.\\nnot to be publishe...         0    0   \n",
       "1960-07-26  opinion by\\njustice friend.\\nnot to be publish...         0    0   \n",
       "1960-07-01  mr. presiding justice kiley\\ndelivered the opi...         0    0   \n",
       "\n",
       "            shotgun  rifle  handgun  weapon  holster  semiautomatic  \n",
       "year                                                                 \n",
       "1960-07-26        0      0        0       0        0              0  \n",
       "1960-06-20        0      0        0       0        0              0  \n",
       "1960-05-24        0      0        0       0        0              0  \n",
       "1960-07-26        0      0        0       0        0              0  \n",
       "1960-07-01        0      0        0       0        0              0  "
      ]
     },
     "execution_count": 46,
     "metadata": {},
     "output_type": "execute_result"
    }
   ],
   "source": [
    "opinion_year_60.head()"
   ]
  },
  {
   "cell_type": "code",
   "execution_count": 48,
   "metadata": {},
   "outputs": [
    {
     "data": {
      "text/plain": [
       "714"
      ]
     },
     "execution_count": 48,
     "metadata": {},
     "output_type": "execute_result"
    }
   ],
   "source": [
    "len(opinion_year_60.index)"
   ]
  },
  {
   "cell_type": "code",
   "execution_count": 49,
   "metadata": {},
   "outputs": [],
   "source": [
    "opinion_year_80 = keywords4.loc[\"1980\"]"
   ]
  },
  {
   "cell_type": "code",
   "execution_count": 50,
   "metadata": {},
   "outputs": [
    {
     "data": {
      "text/html": [
       "<div>\n",
       "<style scoped>\n",
       "    .dataframe tbody tr th:only-of-type {\n",
       "        vertical-align: middle;\n",
       "    }\n",
       "\n",
       "    .dataframe tbody tr th {\n",
       "        vertical-align: top;\n",
       "    }\n",
       "\n",
       "    .dataframe thead th {\n",
       "        text-align: right;\n",
       "    }\n",
       "</style>\n",
       "<table border=\"1\" class=\"dataframe\">\n",
       "  <thead>\n",
       "    <tr style=\"text-align: right;\">\n",
       "      <th></th>\n",
       "      <th>text</th>\n",
       "      <th>revolver</th>\n",
       "      <th>gun</th>\n",
       "      <th>shotgun</th>\n",
       "      <th>rifle</th>\n",
       "      <th>handgun</th>\n",
       "      <th>weapon</th>\n",
       "      <th>holster</th>\n",
       "      <th>semiautomatic</th>\n",
       "    </tr>\n",
       "    <tr>\n",
       "      <th>year</th>\n",
       "      <th></th>\n",
       "      <th></th>\n",
       "      <th></th>\n",
       "      <th></th>\n",
       "      <th></th>\n",
       "      <th></th>\n",
       "      <th></th>\n",
       "      <th></th>\n",
       "      <th></th>\n",
       "    </tr>\n",
       "  </thead>\n",
       "  <tbody>\n",
       "    <tr>\n",
       "      <th>1980-11-26</th>\n",
       "      <td>mr. justice kasserman\\ndelivered the opinion o...</td>\n",
       "      <td>0</td>\n",
       "      <td>0</td>\n",
       "      <td>0</td>\n",
       "      <td>0</td>\n",
       "      <td>0</td>\n",
       "      <td>0</td>\n",
       "      <td>0</td>\n",
       "      <td>0</td>\n",
       "    </tr>\n",
       "    <tr>\n",
       "      <th>1980-12-11</th>\n",
       "      <td>mr. presiding justice linn\\ndelivered the opin...</td>\n",
       "      <td>0</td>\n",
       "      <td>0</td>\n",
       "      <td>0</td>\n",
       "      <td>0</td>\n",
       "      <td>0</td>\n",
       "      <td>0</td>\n",
       "      <td>0</td>\n",
       "      <td>0</td>\n",
       "    </tr>\n",
       "    <tr>\n",
       "      <th>1980-12-03</th>\n",
       "      <td>mr. justice rizzi\\ndelivered the opinion of th...</td>\n",
       "      <td>0</td>\n",
       "      <td>0</td>\n",
       "      <td>0</td>\n",
       "      <td>0</td>\n",
       "      <td>0</td>\n",
       "      <td>0</td>\n",
       "      <td>0</td>\n",
       "      <td>0</td>\n",
       "    </tr>\n",
       "    <tr>\n",
       "      <th>1980-12-02</th>\n",
       "      <td>mr. justice downing\\ndelivered the opinion of ...</td>\n",
       "      <td>0</td>\n",
       "      <td>0</td>\n",
       "      <td>0</td>\n",
       "      <td>0</td>\n",
       "      <td>0</td>\n",
       "      <td>0</td>\n",
       "      <td>0</td>\n",
       "      <td>0</td>\n",
       "    </tr>\n",
       "    <tr>\n",
       "      <th>1980-12-12</th>\n",
       "      <td>mr. justice van deusen\\ndelivered the opinion ...</td>\n",
       "      <td>0</td>\n",
       "      <td>0</td>\n",
       "      <td>0</td>\n",
       "      <td>0</td>\n",
       "      <td>0</td>\n",
       "      <td>0</td>\n",
       "      <td>0</td>\n",
       "      <td>0</td>\n",
       "    </tr>\n",
       "  </tbody>\n",
       "</table>\n",
       "</div>"
      ],
      "text/plain": [
       "                                                         text  revolver  gun  \\\n",
       "year                                                                           \n",
       "1980-11-26  mr. justice kasserman\\ndelivered the opinion o...         0    0   \n",
       "1980-12-11  mr. presiding justice linn\\ndelivered the opin...         0    0   \n",
       "1980-12-03  mr. justice rizzi\\ndelivered the opinion of th...         0    0   \n",
       "1980-12-02  mr. justice downing\\ndelivered the opinion of ...         0    0   \n",
       "1980-12-12  mr. justice van deusen\\ndelivered the opinion ...         0    0   \n",
       "\n",
       "            shotgun  rifle  handgun  weapon  holster  semiautomatic  \n",
       "year                                                                 \n",
       "1980-11-26        0      0        0       0        0              0  \n",
       "1980-12-11        0      0        0       0        0              0  \n",
       "1980-12-03        0      0        0       0        0              0  \n",
       "1980-12-02        0      0        0       0        0              0  \n",
       "1980-12-12        0      0        0       0        0              0  "
      ]
     },
     "execution_count": 50,
     "metadata": {},
     "output_type": "execute_result"
    }
   ],
   "source": [
    "opinion_year_80.head()"
   ]
  },
  {
   "cell_type": "code",
   "execution_count": 51,
   "metadata": {},
   "outputs": [
    {
     "data": {
      "text/plain": [
       "2820"
      ]
     },
     "execution_count": 51,
     "metadata": {},
     "output_type": "execute_result"
    }
   ],
   "source": [
    "len(opinion_year_80.index)"
   ]
  },
  {
   "cell_type": "code",
   "execution_count": 53,
   "metadata": {},
   "outputs": [],
   "source": [
    "opinion_year_02 = keywords4.loc[\"2000\"]"
   ]
  },
  {
   "cell_type": "code",
   "execution_count": 55,
   "metadata": {},
   "outputs": [
    {
     "data": {
      "text/html": [
       "<div>\n",
       "<style scoped>\n",
       "    .dataframe tbody tr th:only-of-type {\n",
       "        vertical-align: middle;\n",
       "    }\n",
       "\n",
       "    .dataframe tbody tr th {\n",
       "        vertical-align: top;\n",
       "    }\n",
       "\n",
       "    .dataframe thead th {\n",
       "        text-align: right;\n",
       "    }\n",
       "</style>\n",
       "<table border=\"1\" class=\"dataframe\">\n",
       "  <thead>\n",
       "    <tr style=\"text-align: right;\">\n",
       "      <th></th>\n",
       "      <th>text</th>\n",
       "      <th>revolver</th>\n",
       "      <th>gun</th>\n",
       "      <th>shotgun</th>\n",
       "      <th>rifle</th>\n",
       "      <th>handgun</th>\n",
       "      <th>weapon</th>\n",
       "      <th>holster</th>\n",
       "      <th>semiautomatic</th>\n",
       "    </tr>\n",
       "    <tr>\n",
       "      <th>year</th>\n",
       "      <th></th>\n",
       "      <th></th>\n",
       "      <th></th>\n",
       "      <th></th>\n",
       "      <th></th>\n",
       "      <th></th>\n",
       "      <th></th>\n",
       "      <th></th>\n",
       "      <th></th>\n",
       "    </tr>\n",
       "  </thead>\n",
       "  <tbody>\n",
       "    <tr>\n",
       "      <th>2000-12-28</th>\n",
       "      <td>presiding justice slater\\ndelivered the opinio...</td>\n",
       "      <td>0</td>\n",
       "      <td>0</td>\n",
       "      <td>0</td>\n",
       "      <td>0</td>\n",
       "      <td>0</td>\n",
       "      <td>0</td>\n",
       "      <td>0</td>\n",
       "      <td>0</td>\n",
       "    </tr>\n",
       "    <tr>\n",
       "      <th>2000-12-22</th>\n",
       "      <td>justice quinn\\ndelivered the opinion of the co...</td>\n",
       "      <td>0</td>\n",
       "      <td>0</td>\n",
       "      <td>0</td>\n",
       "      <td>0</td>\n",
       "      <td>0</td>\n",
       "      <td>0</td>\n",
       "      <td>0</td>\n",
       "      <td>0</td>\n",
       "    </tr>\n",
       "    <tr>\n",
       "      <th>2000-12-29</th>\n",
       "      <td>justice buckley\\ndelivered the opinion of the ...</td>\n",
       "      <td>0</td>\n",
       "      <td>1</td>\n",
       "      <td>0</td>\n",
       "      <td>0</td>\n",
       "      <td>0</td>\n",
       "      <td>0</td>\n",
       "      <td>0</td>\n",
       "      <td>0</td>\n",
       "    </tr>\n",
       "    <tr>\n",
       "      <th>2000-12-29</th>\n",
       "      <td>presiding justice campbell,\\ndissenting in par...</td>\n",
       "      <td>0</td>\n",
       "      <td>0</td>\n",
       "      <td>0</td>\n",
       "      <td>0</td>\n",
       "      <td>0</td>\n",
       "      <td>0</td>\n",
       "      <td>0</td>\n",
       "      <td>0</td>\n",
       "    </tr>\n",
       "    <tr>\n",
       "      <th>2000-11-09</th>\n",
       "      <td>justice zwick\\ndelivered the opinion of the co...</td>\n",
       "      <td>0</td>\n",
       "      <td>0</td>\n",
       "      <td>0</td>\n",
       "      <td>0</td>\n",
       "      <td>0</td>\n",
       "      <td>0</td>\n",
       "      <td>0</td>\n",
       "      <td>0</td>\n",
       "    </tr>\n",
       "  </tbody>\n",
       "</table>\n",
       "</div>"
      ],
      "text/plain": [
       "                                                         text  revolver  gun  \\\n",
       "year                                                                           \n",
       "2000-12-28  presiding justice slater\\ndelivered the opinio...         0    0   \n",
       "2000-12-22  justice quinn\\ndelivered the opinion of the co...         0    0   \n",
       "2000-12-29  justice buckley\\ndelivered the opinion of the ...         0    1   \n",
       "2000-12-29  presiding justice campbell,\\ndissenting in par...         0    0   \n",
       "2000-11-09  justice zwick\\ndelivered the opinion of the co...         0    0   \n",
       "\n",
       "            shotgun  rifle  handgun  weapon  holster  semiautomatic  \n",
       "year                                                                 \n",
       "2000-12-28        0      0        0       0        0              0  \n",
       "2000-12-22        0      0        0       0        0              0  \n",
       "2000-12-29        0      0        0       0        0              0  \n",
       "2000-12-29        0      0        0       0        0              0  \n",
       "2000-11-09        0      0        0       0        0              0  "
      ]
     },
     "execution_count": 55,
     "metadata": {},
     "output_type": "execute_result"
    }
   ],
   "source": [
    "opinion_year_02.head()"
   ]
  },
  {
   "cell_type": "code",
   "execution_count": 56,
   "metadata": {},
   "outputs": [
    {
     "data": {
      "text/plain": [
       "1376"
      ]
     },
     "execution_count": 56,
     "metadata": {},
     "output_type": "execute_result"
    }
   ],
   "source": [
    "len(opinion_year_02.index)"
   ]
  }
 ],
 "metadata": {
  "kernelspec": {
   "display_name": "Python 3",
   "language": "python",
   "name": "python3"
  },
  "language_info": {
   "codemirror_mode": {
    "name": "ipython",
    "version": 3
   },
   "file_extension": ".py",
   "mimetype": "text/x-python",
   "name": "python",
   "nbconvert_exporter": "python",
   "pygments_lexer": "ipython3",
   "version": "3.8.5"
  }
 },
 "nbformat": 4,
 "nbformat_minor": 4
}
