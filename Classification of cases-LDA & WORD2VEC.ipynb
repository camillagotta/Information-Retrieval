{
 "cells": [
  {
   "cell_type": "markdown",
   "metadata": {},
   "source": [
    "\n",
    "\n",
    "### Importing libraries\n",
    "Python imports:"
   ]
  },
  {
   "cell_type": "code",
   "execution_count": 24,
   "metadata": {},
   "outputs": [
    {
     "name": "stderr",
     "output_type": "stream",
     "text": [
      "[nltk_data] Error loading wordnet: <urlopen error [Errno 11001]\n",
      "[nltk_data]     getaddrinfo failed>\n",
      "[nltk_data] Error loading words: <urlopen error [Errno 11001]\n",
      "[nltk_data]     getaddrinfo failed>\n",
      "[nltk_data] Error loading punkt: <urlopen error [Errno 11001]\n",
      "[nltk_data]     getaddrinfo failed>\n"
     ]
    }
   ],
   "source": [
    "#!pip install spacy\n",
    "import spacy\n",
    "import string\n",
    "import re\n",
    "import itertools\n",
    "import csv\n",
    "import shutil\n",
    "import matplotlib.pyplot as plt\n",
    "import zipfile\n",
    "import lzma\n",
    "import json\n",
    "import requests\n",
    "import os\n",
    "import xml.etree.cElementTree as ET\n",
    "import pandas as pd\n",
    "import numpy as np\n",
    "import seaborn as sns\n",
    "import random\n",
    "from nltk.corpus import stopwords \n",
    "\n",
    "#!pip install -U spacy unidecode\n",
    "\n",
    "from unidecode import unidecode\n",
    "from spacy.matcher import Matcher \n",
    "from spacy import displacy \n",
    "from IPython.display import Image, display\n",
    "import nltk\n",
    "nltk.download('wordnet')\n",
    "nltk.download('words')\n",
    "nltk.download('punkt')\n",
    "\n",
    "from nltk import word_tokenize\n",
    "from nltk.stem import WordNetLemmatizer\n",
    "from nltk.util import skipgrams\n",
    "from nltk.corpus import wordnet as wn\n",
    "from spacy.lang.en import English\n",
    "\n",
    "from tqdm import tqdm\n",
    "from ipywidgets import FloatProgress\n",
    "%matplotlib inline\n",
    "\n",
    "\n",
    "#!pip install pyquery\n",
    "#!pip install -U gensim\n",
    "\n",
    "import gensim\n",
    "#import pyLDAvis.gensim\n",
    "import pickle\n",
    "from gensim import corpora\n",
    "from gensim.parsing.preprocessing import remove_stopwords\n",
    "from gensim.parsing.preprocessing import strip_non_alphanum\n",
    "from gensim.models import CoherenceModel"
   ]
  },
  {
   "cell_type": "code",
   "execution_count": 25,
   "metadata": {},
   "outputs": [],
   "source": [
    "#!pip install pyLDAvis\n",
    "import pyLDAvis.gensim_models  # don't skip this"
   ]
  },
  {
   "cell_type": "code",
   "execution_count": 26,
   "metadata": {},
   "outputs": [],
   "source": [
    "import warnings\n",
    "warnings.filterwarnings(\"ignore\", category=DeprecationWarning)"
   ]
  },
  {
   "cell_type": "markdown",
   "metadata": {},
   "source": [
    "## LDA\n",
    "\n",
    "Performing Topic Model\n",
    "Topic model is an unsupervised machine learning method that helps discover hidden semantic structures in a paper, that allows to learn topic representations of papers in a corpus.\n",
    "\n",
    "The model can be applied to any kinds of labels on documents, such as tags on posts on the website.\n",
    "\n",
    "Here I use Latent Dirichlet Allocation (LDA), one of the most popular topic modeling methods: is a generative statistical model that allows sets of observations to be explained by unobserved groups that explain why some parts of the data are similar."
   ]
  },
  {
   "cell_type": "code",
   "execution_count": null,
   "metadata": {},
   "outputs": [],
   "source": [
    "#Load lemmatization 2 data\n",
    "with open(\"data_lemmatized_2.pkl\", 'rb') as f:\n",
    "     data_lemmatized_2 = pickle.load(f)"
   ]
  },
  {
   "cell_type": "code",
   "execution_count": null,
   "metadata": {},
   "outputs": [],
   "source": [
    "id2word2 = corpora.Dictionary(data_lemmatized_2)"
   ]
  },
  {
   "cell_type": "code",
   "execution_count": null,
   "metadata": {},
   "outputs": [],
   "source": [
    "id2word2_skip = corpora.Dictionary(list_k)"
   ]
  },
  {
   "cell_type": "code",
   "execution_count": null,
   "metadata": {},
   "outputs": [],
   "source": [
    "#Term Document Frequency\n",
    "texts = data_lemmatized_2\n",
    "corpus2 = [id2word2.doc2bow(text) for text in texts]"
   ]
  },
  {
   "cell_type": "code",
   "execution_count": null,
   "metadata": {},
   "outputs": [],
   "source": [
    "corpus2_skip = [id2word2.doc2bow(text) for text in list_k]"
   ]
  },
  {
   "cell_type": "code",
   "execution_count": null,
   "metadata": {},
   "outputs": [],
   "source": [
    "# Human readable format of corpus (term-frequency)\n",
    "[[(id2word2[id], freq) for id, freq in cp] for cp in corpus2[:1]]"
   ]
  },
  {
   "cell_type": "code",
   "execution_count": null,
   "metadata": {},
   "outputs": [],
   "source": [
    "[[(id2word2_skip[id], freq) for id, freq in cp] for cp in corpus2_skip[:1]]"
   ]
  },
  {
   "cell_type": "code",
   "execution_count": null,
   "metadata": {},
   "outputs": [],
   "source": [
    "id2word2.save('dictionary2.gensim')"
   ]
  },
  {
   "cell_type": "code",
   "execution_count": null,
   "metadata": {},
   "outputs": [],
   "source": [
    "id2word2_skip.save('dictionary2_skip.gensim')"
   ]
  },
  {
   "cell_type": "code",
   "execution_count": null,
   "metadata": {},
   "outputs": [],
   "source": [
    "with open(\"corpus2.pkl\", \"wb\") as f:\n",
    "    pickle.dump(corpus2, f)"
   ]
  },
  {
   "cell_type": "code",
   "execution_count": null,
   "metadata": {},
   "outputs": [],
   "source": [
    "with open(\"id2word2_skip.pkl\", \"wb\") as f:\n",
    "    pickle.dump(id2word2_skip, f)"
   ]
  },
  {
   "cell_type": "markdown",
   "metadata": {},
   "source": [
    "### Save and load model\n",
    "\n",
    "LDA model can be saved and loaded locally: doing so can reduce time to train model again.\n",
    "\n",
    "Alpha and eta are hyperparameters that affect sparsity of the topics. According to the Gensim docs, both defaults to 1.0/num_topics prior.\n",
    "\n",
    "Chunksize is the number of documents to be used in each training chunk. update_every determines how often the model parameters should be updated and passes is the total number of training passes."
   ]
  },
  {
   "cell_type": "code",
   "execution_count": null,
   "metadata": {},
   "outputs": [],
   "source": [
    "id2word2.load('dictionary2.gensim')"
   ]
  },
  {
   "cell_type": "code",
   "execution_count": null,
   "metadata": {},
   "outputs": [],
   "source": [
    "id2word2_skip.load('id2word2_skip.gensim')"
   ]
  },
  {
   "cell_type": "code",
   "execution_count": null,
   "metadata": {},
   "outputs": [],
   "source": [
    "with open('corpus2.pkl', 'rb') as f:\n",
    "    corpus2 = pickle.load(f)"
   ]
  },
  {
   "cell_type": "code",
   "execution_count": null,
   "metadata": {},
   "outputs": [],
   "source": [
    "with open(\"id2word2_skip.pkl\", \"rb\") as f:\n",
    "    pickle.dump(id2word2_skip, f)"
   ]
  },
  {
   "cell_type": "code",
   "execution_count": null,
   "metadata": {},
   "outputs": [],
   "source": [
    "#For each of the chosen 10 topic, we will explore the words occuring in that topic and their relative weights\n",
    "ldamodel2 = gensim.models.ldamodel.LdaModel(corpus=corpus2,\n",
    "                                           id2word=id2word2,\n",
    "                                           num_topics=15, \n",
    "                                           random_state=100,\n",
    "                                           update_every=1,\n",
    "                                           chunksize=100,\n",
    "                                           passes=10,\n",
    "                                           alpha='auto',\n",
    "                                           per_word_topics=True)"
   ]
  },
  {
   "cell_type": "code",
   "execution_count": null,
   "metadata": {},
   "outputs": [],
   "source": [
    "#MODEL OF INTEREST\n",
    "ldamodel3 = gensim.models.ldamodel.LdaModel(corpus=corpus2,\n",
    "                                           id2word=id2word2,\n",
    "                                           num_topics=20, \n",
    "                                           random_state=100,\n",
    "                                           update_every=1,\n",
    "                                           chunksize=100,\n",
    "                                           passes=10,\n",
    "                                           alpha='auto',\n",
    "                                           per_word_topics=True)"
   ]
  },
  {
   "cell_type": "code",
   "execution_count": null,
   "metadata": {},
   "outputs": [],
   "source": [
    "ldamodel4 = gensim.models.ldamodel.LdaModel(corpus=corpus2,\n",
    "                                           id2word=id2word2,\n",
    "                                           num_topics=10, \n",
    "                                           random_state=100,\n",
    "                                           update_every=1,\n",
    "                                           chunksize=100,\n",
    "                                           passes=10,\n",
    "                                           alpha='auto',\n",
    "                                           per_word_topics=True)"
   ]
  },
  {
   "cell_type": "code",
   "execution_count": null,
   "metadata": {},
   "outputs": [],
   "source": [
    "ldamodel5 = gensim.models.ldamodel.LdaModel(corpus=corpus2,\n",
    "                                           id2word=id2word2,\n",
    "                                           num_topics=5, \n",
    "                                           random_state=100,\n",
    "                                           update_every=1,\n",
    "                                           chunksize=100,\n",
    "                                           passes=10,\n",
    "                                           alpha='auto',\n",
    "                                           per_word_topics=True)"
   ]
  },
  {
   "cell_type": "code",
   "execution_count": null,
   "metadata": {},
   "outputs": [],
   "source": [
    "ldamodel6 = gensim.models.ldamodel.LdaModel(corpus=corpus2,\n",
    "                                           id2word=id2word2,\n",
    "                                           num_topics=30, \n",
    "                                           random_state=100,\n",
    "                                           update_every=1,\n",
    "                                           chunksize=100,\n",
    "                                           passes=10,\n",
    "                                           alpha='auto',\n",
    "                                           per_word_topics=True)"
   ]
  },
  {
   "cell_type": "code",
   "execution_count": null,
   "metadata": {},
   "outputs": [],
   "source": [
    "ldamodel_skip = gensim.models.ldamodel.LdaModel(corpus=corpus2_skip,\n",
    "                                           id2word=id2word2_skip,\n",
    "                                           num_topics=10, \n",
    "                                           random_state=100,\n",
    "                                           update_every=1,\n",
    "                                           chunksize=100,\n",
    "                                           passes=10,\n",
    "                                           alpha='auto',\n",
    "                                           per_word_topics=True)"
   ]
  },
  {
   "cell_type": "code",
   "execution_count": null,
   "metadata": {},
   "outputs": [],
   "source": [
    "ldamodel2.save('model2.gensim')"
   ]
  },
  {
   "cell_type": "code",
   "execution_count": null,
   "metadata": {},
   "outputs": [],
   "source": [
    "ldamodel3.save('model3.gensim')"
   ]
  },
  {
   "cell_type": "code",
   "execution_count": null,
   "metadata": {},
   "outputs": [],
   "source": [
    "ldamodel4.save('model4.gensim')"
   ]
  },
  {
   "cell_type": "code",
   "execution_count": null,
   "metadata": {},
   "outputs": [],
   "source": [
    "ldamodel5.save('model5.gensim')"
   ]
  },
  {
   "cell_type": "code",
   "execution_count": null,
   "metadata": {},
   "outputs": [],
   "source": [
    "ldamodel6.save('model6.gensim')"
   ]
  },
  {
   "cell_type": "code",
   "execution_count": null,
   "metadata": {},
   "outputs": [],
   "source": [
    "ldamodel_skip.save('ldamodel_skip.gensim')"
   ]
  },
  {
   "cell_type": "markdown",
   "metadata": {},
   "source": [
    "pyLDAvis is designed to help users interpret the topics in a topic model that has been fit to a corpus of text data.\n",
    "\n",
    "The package extracts information from a fitted LDA topic model to inform an interactive web-based visualization.\n",
    "\n",
    "Saliency: a measure of how much the term tells you about the topic.\n",
    "\n",
    "Relevance: a weighted average of the probability of the word given the topic and the word given the topic normalized by the probability of the topic.\n",
    "\n",
    "The size of the bubble measures the importance of the topics, relative to the data"
   ]
  },
  {
   "cell_type": "code",
   "execution_count": null,
   "metadata": {},
   "outputs": [],
   "source": [
    "#LOAD MODEL 2 AND CORPUS \n",
    "id2word2 = gensim.corpora.Dictionary.load('dictionary2.gensim')\n",
    "with open('corpus2.pkl', 'rb') as f:\n",
    "    corpus2 = pickle.load(f)\n",
    "ldamodel2 = gensim.models.ldamodel.LdaModel.load('model2.gensim')"
   ]
  },
  {
   "cell_type": "code",
   "execution_count": null,
   "metadata": {},
   "outputs": [],
   "source": [
    "#LOAD MODEL 3 AND CORPUS \n",
    "id2word2 = gensim.corpora.Dictionary.load('dictionary2.gensim')\n",
    "with open('corpus2.pkl', 'rb') as f:\n",
    "    corpus2 = pickle.load(f)\n",
    "ldamodel3 = gensim.models.ldamodel.LdaModel.load('model3.gensim')"
   ]
  },
  {
   "cell_type": "code",
   "execution_count": null,
   "metadata": {},
   "outputs": [],
   "source": [
    "#LOAD MODEL 4 AND CORPUS \n",
    "id2word2 = gensim.corpora.Dictionary.load('dictionary2.gensim')\n",
    "with open('corpus2.pkl', 'rb') as f:\n",
    "    corpus2 = pickle.load(f)\n",
    "ldamodel4 = gensim.models.ldamodel.LdaModel.load('model4.gensim')"
   ]
  },
  {
   "cell_type": "code",
   "execution_count": null,
   "metadata": {},
   "outputs": [],
   "source": [
    "#LOAD MODEL 5 AND CORPUS \n",
    "id2word2 = gensim.corpora.Dictionary.load('dictionary2.gensim')\n",
    "with open('corpus2.pkl', 'rb') as f:\n",
    "    corpus2 = pickle.load(f)\n",
    "ldamodel5 = gensim.models.ldamodel.LdaModel.load('model5.gensim')"
   ]
  },
  {
   "cell_type": "code",
   "execution_count": null,
   "metadata": {},
   "outputs": [],
   "source": [
    "#LOAD MODEL 6 AND CORPUS \n",
    "id2word2 = gensim.corpora.Dictionary.load('dictionary2.gensim')\n",
    "with open('corpus2.pkl', 'rb') as f:\n",
    "    corpus2 = pickle.load(f)\n",
    "ldamodel6 = gensim.models.ldamodel.LdaModel.load('model6.gensim')"
   ]
  },
  {
   "cell_type": "code",
   "execution_count": null,
   "metadata": {},
   "outputs": [],
   "source": [
    "#LOAD MODEL WITH SKIPGRAMS AND CORPUS \n",
    "id2word2__ski = gensim.corpora.Dictionary.load('dictionary2_skip.gensim')\n",
    "with open('corpus2_skip.pkl', 'rb') as f:\n",
    "    corpus2_skip = pickle.load(f)\n",
    "ldamodel_skip = gensim.models.ldamodel.LdaModel.load('ldamodel_skip.gensim')"
   ]
  },
  {
   "cell_type": "markdown",
   "metadata": {},
   "source": [
    "A good topic model will have fairly big, non-overlapping bubbles scattered throughout the chart instead of being clustered in one quadrant"
   ]
  },
  {
   "cell_type": "code",
   "execution_count": null,
   "metadata": {},
   "outputs": [],
   "source": [
    "pyLDAvis.enable_notebook()\n",
    "vis2 = pyLDAvis.gensim_models.prepare(ldamodel2, corpus2, id2word2)\n",
    "vis2"
   ]
  },
  {
   "cell_type": "code",
   "execution_count": null,
   "metadata": {},
   "outputs": [],
   "source": [
    "#MODEL OF INTEREST\n",
    "pyLDAvis.enable_notebook()\n",
    "vis3 = pyLDAvis.gensim_models.prepare(ldamodel3, corpus2, id2word2)\n",
    "vis3"
   ]
  },
  {
   "cell_type": "code",
   "execution_count": null,
   "metadata": {},
   "outputs": [],
   "source": [
    "pyLDAvis.enable_notebook()\n",
    "vis4 = pyLDAvis.gensim_models.prepare(ldamodel4, corpus2, id2word2)\n",
    "vis4"
   ]
  },
  {
   "cell_type": "code",
   "execution_count": null,
   "metadata": {},
   "outputs": [],
   "source": [
    "pyLDAvis.enable_notebook()\n",
    "vis5 = pyLDAvis.gensim_models.prepare(ldamodel5, corpus2, id2word2)\n",
    "vis5"
   ]
  },
  {
   "cell_type": "code",
   "execution_count": null,
   "metadata": {},
   "outputs": [],
   "source": [
    "pyLDAvis.enable_notebook()\n",
    "vis6 = pyLDAvis.gensim_models.prepare(ldamodel6, corpus2, id2word2)\n",
    "vis6"
   ]
  },
  {
   "cell_type": "code",
   "execution_count": null,
   "metadata": {},
   "outputs": [],
   "source": [
    "pyLDAvis.enable_notebook()\n",
    "vis_skip = pyLDAvis.gensim_models.prepare(ldamodel_skip, corpus2_skip, id2word2_skip)\n",
    "vis_skip"
   ]
  },
  {
   "cell_type": "code",
   "execution_count": null,
   "metadata": {},
   "outputs": [],
   "source": [
    "words_for_topic_2 = ldamodel2.show_topics(num_topics=15, num_words=10, log=False, formatted=False)\n",
    "words_for_topic_2"
   ]
  },
  {
   "cell_type": "code",
   "execution_count": null,
   "metadata": {},
   "outputs": [],
   "source": [
    "#MODEL OF INTEREST\n",
    "words_for_topic_3 = ldamodel3.show_topics(num_topics=20, num_words=30, log=False, formatted=False)\n",
    "words_for_topic_3"
   ]
  },
  {
   "cell_type": "code",
   "execution_count": null,
   "metadata": {},
   "outputs": [],
   "source": [
    "words_for_topic_4 = ldamodel4.show_topics(num_topics=10, num_words=30, log=False, formatted=False)\n",
    "words_for_topic_4"
   ]
  },
  {
   "cell_type": "code",
   "execution_count": null,
   "metadata": {
    "scrolled": true
   },
   "outputs": [],
   "source": [
    "words_for_topic_5 = ldamodel5.show_topics(num_topics=5, num_words=15, log=False, formatted=False)\n",
    "words_for_topic_5"
   ]
  },
  {
   "cell_type": "code",
   "execution_count": null,
   "metadata": {},
   "outputs": [],
   "source": [
    "words_for_topic_6 = ldamodel6.show_topics(num_topics=30, num_words=20, log=False, formatted=False)\n",
    "words_for_topic_6"
   ]
  },
  {
   "cell_type": "code",
   "execution_count": null,
   "metadata": {},
   "outputs": [],
   "source": [
    "words_for_topic_skip = ldamodel_skip.show_topics(num_topics=10, num_words=15, log=False, formatted=False)\n",
    "words_for_topic_skip"
   ]
  },
  {
   "cell_type": "markdown",
   "metadata": {},
   "source": [
    "## Model perplexity and coherence score\n",
    "\n",
    "Model perplexity and topic coherence provide a convenient measure to judge how good a given topic model is. In my experience, topic coherence score, in particular, has been more helpful."
   ]
  },
  {
   "cell_type": "markdown",
   "metadata": {},
   "source": [
    "#### Perplexity score"
   ]
  },
  {
   "cell_type": "code",
   "execution_count": null,
   "metadata": {},
   "outputs": [],
   "source": [
    "# Compute Perplexity score model 2\n",
    "print('\\nPerplexity Score 2: ', ldamodel2.log_perplexity(corpus2))  # a measure of how good the model 2 is. lower the better."
   ]
  },
  {
   "cell_type": "code",
   "execution_count": null,
   "metadata": {},
   "outputs": [],
   "source": [
    "# Compute Perplexity score model 3\n",
    "print('\\nPerplexity Score 3: ', ldamodel3.log_perplexity(corpus2))  # a measure of how good the model 3 is. lower the better."
   ]
  },
  {
   "cell_type": "code",
   "execution_count": null,
   "metadata": {},
   "outputs": [],
   "source": [
    "# Compute Perplexity score model 4\n",
    "print('\\nPerplexity Score 4: ', ldamodel4.log_perplexity(corpus2))  # a measure of how good the model 4 is. lower the better."
   ]
  },
  {
   "cell_type": "code",
   "execution_count": null,
   "metadata": {},
   "outputs": [],
   "source": [
    "# Compute Perplexity score model 5\n",
    "print('\\nPerplexity Score 5: ', ldamodel5.log_perplexity(corpus2))  # a measure of how good the model 5 is. lower the better."
   ]
  },
  {
   "cell_type": "code",
   "execution_count": null,
   "metadata": {},
   "outputs": [],
   "source": [
    "# Compute Perplexity score model 6\n",
    "print('\\nPerplexity Score 6: ', ldamodel6.log_perplexity(corpus2))  # a measure of how good the model 5 is. lower the better."
   ]
  },
  {
   "cell_type": "markdown",
   "metadata": {},
   "source": [
    "#### Coherence score"
   ]
  },
  {
   "cell_type": "code",
   "execution_count": null,
   "metadata": {},
   "outputs": [],
   "source": [
    "# Compute Coherence Score model 2\n",
    "coherence_model_lda_2 = CoherenceModel(model=ldamodel2, texts=data_lemmatized_2, dictionary=id2word2, coherence='c_v')\n",
    "coherence_lda_2 = coherence_model_lda_2.get_coherence()\n",
    "print('\\nCoherence Score 2: ', coherence_lda_2)"
   ]
  },
  {
   "cell_type": "code",
   "execution_count": null,
   "metadata": {},
   "outputs": [],
   "source": [
    "# Compute Coherence Score model 3\n",
    "coherence_model_lda_3 = CoherenceModel(model=ldamodel3, texts=data_lemmatized_2, dictionary=id2word2, coherence='c_v')\n",
    "coherence_lda_3 = coherence_model_lda_3.get_coherence()\n",
    "print('\\nCoherence Score 3: ', coherence_lda_3)"
   ]
  },
  {
   "cell_type": "code",
   "execution_count": null,
   "metadata": {},
   "outputs": [],
   "source": [
    "# Compute Coherence Score model 4\n",
    "coherence_model_lda_4 = CoherenceModel(model=ldamodel4, texts=data_lemmatized_2, dictionary=id2word2, coherence='c_v')\n",
    "coherence_lda_4 = coherence_model_lda_4.get_coherence()\n",
    "print('\\nCoherence Score 4: ', coherence_lda_4)"
   ]
  },
  {
   "cell_type": "code",
   "execution_count": null,
   "metadata": {},
   "outputs": [],
   "source": [
    "# Compute Coherence Score model 5\n",
    "coherence_model_lda_5 = CoherenceModel(model=ldamodel5, texts=data_lemmatized_2, dictionary=id2word2, coherence='c_v')\n",
    "coherence_lda_5 = coherence_model_lda_5.get_coherence()\n",
    "print('\\nCoherence Score 5: ', coherence_lda_5)"
   ]
  },
  {
   "cell_type": "code",
   "execution_count": null,
   "metadata": {},
   "outputs": [],
   "source": [
    "# Compute Coherence Score model 6\n",
    "coherence_model_lda_6 = CoherenceModel(model=ldamodel6, texts=data_lemmatized_2, dictionary=id2word2, coherence='c_v')\n",
    "coherence_lda_6 = coherence_model_lda_6.get_coherence()\n",
    "print('\\nCoherence Score 6: ', coherence_lda_6)"
   ]
  },
  {
   "cell_type": "markdown",
   "metadata": {},
   "source": [
    "# LDA MALLET MODEL\n",
    "\n",
    "Mallet’s version often gives a better quality of topics.\n",
    "\n"
   ]
  },
  {
   "cell_type": "code",
   "execution_count": null,
   "metadata": {},
   "outputs": [],
   "source": [
    "import os\n",
    "from gensim.models.wrappers import LdaMallet\n",
    "os.environ.update({'MALLET_HOME':r'C:/mallet-2.0.8/'}) \n",
    "#You should update this path as per the path of Mallet directory on your system.\n",
    "mallet_path = r'C:/mallet-2.0.8/bin/mallet' \n",
    "#You should update this path as per the path of Mallet directory on your system."
   ]
  },
  {
   "cell_type": "code",
   "execution_count": null,
   "metadata": {},
   "outputs": [],
   "source": [
    "mallet_path = 'path/to/mallet-2.0.8/bin/mallet' # update this path\n",
    "ldamallet = gensim.models.wrappers.LdaMallet(mallet_path, corpus=corpus, num_topics=20, id2word=id2word)\n"
   ]
  },
  {
   "cell_type": "code",
   "execution_count": null,
   "metadata": {},
   "outputs": [],
   "source": [
    "# Show Topics\n",
    "pprint(ldamallet.show_topics(formatted=False))"
   ]
  },
  {
   "cell_type": "code",
   "execution_count": null,
   "metadata": {},
   "outputs": [],
   "source": [
    "coherence_model_ldamallet = CoherenceModel(model=ldamallet, texts=data_lemmatized, dictionary=id2word, coherence='c_v')\n",
    "coherence_ldamallet = coherence_model_ldamallet.get_coherence()\n",
    "print('\\nCoherence Score: ', coherence_ldamallet)"
   ]
  },
  {
   "cell_type": "markdown",
   "metadata": {},
   "source": [
    "## WORD2VEC\n",
    "\n",
    "Create a word2vec model and train it with court decisions corpus.\n",
    "\n",
    "Key parameter description (https://radimrehurek.com/gensim/models/word2vec.html)\n",
    "-  `sentences` : training data (has to be a list with tokenized sentences)\n",
    "- `size` : dimension of embedding space\n",
    "- `sg` : CBOW if 0, skip-gram if 1\n",
    "- `window` : number of words accounted for each context (if the window size is 3, 3 word in the left neighorhood and 3 word in the - right neighborhood are considered). Maximum distance between the current and predicted word within a sentence\n",
    "- `min_count` : minimum count of words to be included in the vocabulary\n",
    "- `iter` : number of training iterations\n",
    "- `workers` : number of worker threads to train"
   ]
  },
  {
   "cell_type": "code",
   "execution_count": 32,
   "metadata": {},
   "outputs": [],
   "source": [
    "from scipy.stats import norm\n",
    "import math\n",
    "from nltk import ngrams\n",
    "from gensim.models import Word2Vec\n",
    "from gensim.models.keyedvectors import KeyedVectors\n",
    "from sklearn.metrics.pairwise import cosine_similarity\n",
    "from sklearn.feature_extraction.text import CountVectorizer"
   ]
  },
  {
   "cell_type": "markdown",
   "metadata": {},
   "source": [
    "Gensim uses a neural network to assign a multidimensional vector that captures the semantic relationship of this word to all the other words in the corpus."
   ]
  },
  {
   "cell_type": "code",
   "execution_count": 5,
   "metadata": {},
   "outputs": [],
   "source": [
    "#Load lemmatization 2 data\n",
    "with open(r\"C:\\Users\\camilla.gotta\\Downloads\\data_lemmatized_2.pkl\", 'rb') as f:\n",
    "     data_lemmatized = pickle.load(f)"
   ]
  },
  {
   "cell_type": "code",
   "execution_count": 6,
   "metadata": {},
   "outputs": [],
   "source": [
    "model= gensim.models.Word2Vec(data_lemmatized, window=6, min_count=1, \n",
    "                               sg=1, alpha=0.025, batch_words=10000, workers=1)"
   ]
  },
  {
   "cell_type": "markdown",
   "metadata": {},
   "source": [
    "### Save and load model\n",
    "\n",
    "word2vec model can be saved and loaded locally: doing so can reduce time to train model again"
   ]
  },
  {
   "cell_type": "code",
   "execution_count": 33,
   "metadata": {},
   "outputs": [],
   "source": [
    "#model.save('word2vec_model')\n",
    "model = Word2Vec.load('word2vec_model')"
   ]
  },
  {
   "cell_type": "markdown",
   "metadata": {},
   "source": [
    "Investigate Word Embeddings\n",
    "So... what is produced? Gensim uses a neural network to assign a multidimensional vector that captures the semantic relationship of this word to all the other words in the corpus.\n",
    "\n",
    "Here's what these vectors look like:"
   ]
  },
  {
   "cell_type": "code",
   "execution_count": 9,
   "metadata": {},
   "outputs": [
    {
     "data": {
      "text/plain": [
       "array([-1.58241782e-02,  6.37994170e-01, -6.37879148e-02,  6.75428152e-01,\n",
       "        2.70717263e-01,  5.64336121e-01, -3.15862715e-01,  8.10920715e-01,\n",
       "       -1.99532546e-02, -3.18655014e-01, -1.07413337e-01,  6.66888177e-01,\n",
       "        1.32467687e-01,  1.63552001e-01,  2.94774175e-01,  1.16131701e-01,\n",
       "       -2.88968801e-01, -7.49050975e-02,  7.31726736e-02, -6.61392212e-01,\n",
       "       -1.98981956e-01, -3.25633943e-01,  8.52693856e-01,  4.10762101e-01,\n",
       "       -2.58974105e-01,  1.55120626e-01, -3.42741907e-01, -7.34748319e-02,\n",
       "       -7.83788681e-01, -2.05755323e-01,  3.45528722e-01, -1.09063916e-01,\n",
       "        3.35917920e-01, -1.38631865e-01, -1.68563753e-01, -7.99902976e-02,\n",
       "       -3.05611849e-01, -4.76528704e-01,  2.39547193e-01,  6.89570978e-02,\n",
       "       -4.45871800e-01,  4.01632786e-01,  5.98945618e-02,  7.41557598e-01,\n",
       "        3.15592766e-01, -9.70423967e-02, -1.40021697e-01,  3.47565770e-01,\n",
       "       -1.65359989e-01, -1.54657900e-01, -1.54416308e-01, -1.15054071e-01,\n",
       "       -6.95868582e-02, -1.01723045e-01,  7.74233758e-01, -9.80527163e-01,\n",
       "       -1.11354791e-01, -1.99979126e-01, -1.43382207e-01,  2.16496825e-01,\n",
       "        3.63704137e-04, -2.42909566e-01,  3.63133669e-01, -5.59654176e-01,\n",
       "       -3.93823951e-01,  2.15314433e-01,  3.75144929e-01, -5.76132834e-02,\n",
       "        1.75113022e-01,  4.56661046e-01, -3.62086147e-02, -1.38683662e-01,\n",
       "        1.19980872e-01, -4.44440395e-01, -5.02786458e-01,  6.06678784e-01,\n",
       "        3.70845020e-01,  1.86403275e-01, -6.63366973e-01,  7.87016228e-02,\n",
       "       -1.53367415e-01, -1.10500610e+00, -7.38661289e-02, -6.12132967e-01,\n",
       "        9.24311504e-02, -8.18605125e-01,  2.81042363e-02, -5.73671162e-01,\n",
       "        3.23950291e-01,  2.07167625e-01, -2.88521647e-01, -1.65882796e-01,\n",
       "        1.93668887e-01,  1.39181882e-01,  2.58060098e-01, -7.81198204e-01,\n",
       "        3.87500152e-02,  4.12231773e-01,  3.25754762e-01,  2.30854765e-01],\n",
       "      dtype=float32)"
      ]
     },
     "execution_count": 9,
     "metadata": {},
     "output_type": "execute_result"
    }
   ],
   "source": [
    "model.wv['cocaine']"
   ]
  },
  {
   "cell_type": "markdown",
   "metadata": {},
   "source": [
    "Comparing semantic similarity of words.\n",
    "\n",
    "The similarity of one word to another in the corpus can be calculated using the cosine similarity of the vectors assigned to each word: the semantic similarity may not capture all aspects of a word. For instance, antonymns may be used in such similar sentence structure that they have similar word vectors, even though they have opposite meanings.\n",
    "\n",
    "First, let's use Gensim to find the words with the highest cosine similarity to an existing word."
   ]
  },
  {
   "cell_type": "code",
   "execution_count": 34,
   "metadata": {},
   "outputs": [],
   "source": [
    "financial = model.wv.most_similar('debt', topn=20)"
   ]
  },
  {
   "cell_type": "code",
   "execution_count": 35,
   "metadata": {},
   "outputs": [],
   "source": [
    "financial_crimes=[]\n",
    "for word in financial:\n",
    "    financial_crimes.append(word[0])"
   ]
  },
  {
   "cell_type": "code",
   "execution_count": 36,
   "metadata": {},
   "outputs": [
    {
     "data": {
      "text/plain": [
       "[('indebtedness', 0.8551395535469055),\n",
       " ('repayment', 0.7288793325424194),\n",
       " ('mortgage', 0.7204396724700928),\n",
       " ('unpaid', 0.7039926648139954),\n",
       " ('repay', 0.684604287147522),\n",
       " ('mortgagor', 0.6783332824707031),\n",
       " ('indebted', 0.6772611737251282),\n",
       " ('unsubordinated', 0.6694698333740234),\n",
       " ('payment', 0.6672244668006897),\n",
       " ('promissory', 0.6619433760643005),\n",
       " ('unsatisfied', 0.6612755060195923),\n",
       " ('maturity', 0.6555764079093933),\n",
       " ('floran', 0.654913604259491),\n",
       " ('satisfaction', 0.6537545323371887),\n",
       " ('unsurrendered', 0.6528646349906921),\n",
       " ('garnishable', 0.6517601609230042),\n",
       " ('pledgor', 0.6515974402427673),\n",
       " ('assignor', 0.6486300826072693),\n",
       " ('pledgee', 0.6482280492782593),\n",
       " ('pledge', 0.6470130085945129)]"
      ]
     },
     "execution_count": 36,
     "metadata": {},
     "output_type": "execute_result"
    }
   ],
   "source": [
    "financial"
   ]
  },
  {
   "cell_type": "code",
   "execution_count": 37,
   "metadata": {},
   "outputs": [],
   "source": [
    "weapons = model.wv.most_similar('pistol', topn=20)"
   ]
  },
  {
   "cell_type": "code",
   "execution_count": 38,
   "metadata": {},
   "outputs": [
    {
     "data": {
      "text/plain": [
       "[('revolver', 0.9471077919006348),\n",
       " ('gun', 0.9212538003921509),\n",
       " ('shotgun', 0.9154477119445801),\n",
       " ('revolv', 0.9001919627189636),\n",
       " ('handgun', 0.8901242017745972),\n",
       " ('rifle', 0.884925901889801),\n",
       " ('holster', 0.8350772261619568),\n",
       " ('waistband', 0.8309215903282166),\n",
       " ('semiautomatic', 0.828421413898468),\n",
       " ('weapon', 0.8223859667778015),\n",
       " ('shot', 0.8182439804077148),\n",
       " ('shoot', 0.8169150352478027),\n",
       " ('caliber', 0.8097890019416809),\n",
       " ('cocked', 0.808022141456604),\n",
       " ('ammunition', 0.8013302683830261),\n",
       " ('sawed', 0.7731344103813171),\n",
       " ('luger', 0.7719153165817261),\n",
       " ('unarmed', 0.766810953617096),\n",
       " ('millimeter', 0.7618260979652405),\n",
       " ('shooting', 0.7556378841400146)]"
      ]
     },
     "execution_count": 38,
     "metadata": {},
     "output_type": "execute_result"
    }
   ],
   "source": [
    "weapons"
   ]
  },
  {
   "cell_type": "code",
   "execution_count": 39,
   "metadata": {},
   "outputs": [],
   "source": [
    "weapons_crimes=[]\n",
    "for word in weapons:\n",
    "    weapons_crimes.append(word[0])"
   ]
  },
  {
   "cell_type": "code",
   "execution_count": 40,
   "metadata": {},
   "outputs": [],
   "source": [
    "drug = model.wv.most_similar('cocaine', topn=20)"
   ]
  },
  {
   "cell_type": "code",
   "execution_count": 41,
   "metadata": {},
   "outputs": [
    {
     "data": {
      "text/plain": [
       "[('heroin', 0.9244387745857239),\n",
       " ('marijuana', 0.8722343444824219),\n",
       " ('gram', 0.8406920433044434),\n",
       " ('drug', 0.7910417914390564),\n",
       " ('ounce', 0.7668494582176208),\n",
       " ('amphetamine', 0.7659721374511719),\n",
       " ('undercover', 0.7611410617828369),\n",
       " ('narcotic', 0.7561902403831482),\n",
       " ('paraphernalia', 0.7236723899841309),\n",
       " ('nonnarcotic', 0.7227558493614197),\n",
       " ('peyote', 0.708125114440918),\n",
       " ('baggie', 0.7061018943786621),\n",
       " ('powdery', 0.7050648927688599),\n",
       " ('mescaline', 0.6996675729751587),\n",
       " ('kilogram', 0.6993315815925598),\n",
       " ('substance', 0.6921660900115967),\n",
       " ('ecstasy', 0.6839138865470886),\n",
       " ('barbiturate', 0.6826341152191162),\n",
       " ('bag', 0.6822925806045532),\n",
       " ('codeine', 0.6767136454582214)]"
      ]
     },
     "execution_count": 41,
     "metadata": {},
     "output_type": "execute_result"
    }
   ],
   "source": [
    "drug"
   ]
  },
  {
   "cell_type": "code",
   "execution_count": 42,
   "metadata": {},
   "outputs": [],
   "source": [
    "drug_crimes=[]\n",
    "for word in drug:\n",
    "    drug_crimes.append(word[0])"
   ]
  },
  {
   "cell_type": "code",
   "execution_count": 43,
   "metadata": {},
   "outputs": [],
   "source": [
    "accident = model.wv.most_similar('accident', topn=20)"
   ]
  },
  {
   "cell_type": "code",
   "execution_count": 44,
   "metadata": {},
   "outputs": [
    {
     "data": {
      "text/plain": [
       "[('mishap', 0.8264948725700378),\n",
       " ('collision', 0.8169166445732117),\n",
       " ('injury', 0.7366750240325928),\n",
       " ('injured', 0.7114714980125427),\n",
       " ('occurrence', 0.692298948764801),\n",
       " ('piet', 0.6798914670944214),\n",
       " ('blinded', 0.6660870313644409),\n",
       " ('crushing', 0.6608407497406006),\n",
       " ('skidding', 0.6592949032783508),\n",
       " ('intersectional', 0.6584808826446533),\n",
       " ('wye', 0.6557889580726624),\n",
       " ('widdle', 0.655026376247406),\n",
       " ('jerky', 0.654795229434967),\n",
       " ('diss', 0.651653528213501),\n",
       " ('decelerate', 0.6504678726196289),\n",
       " ('millman', 0.6476781368255615),\n",
       " ('thud', 0.6473369598388672),\n",
       " ('gramme', 0.6466886401176453),\n",
       " ('sowin', 0.6466823816299438),\n",
       " ('motorcycle', 0.6464685201644897)]"
      ]
     },
     "execution_count": 44,
     "metadata": {},
     "output_type": "execute_result"
    }
   ],
   "source": [
    "accident"
   ]
  },
  {
   "cell_type": "code",
   "execution_count": 45,
   "metadata": {},
   "outputs": [],
   "source": [
    "car_accident=[]\n",
    "for word in accident:\n",
    "    car_accident.append(word[0])"
   ]
  },
  {
   "cell_type": "code",
   "execution_count": 46,
   "metadata": {},
   "outputs": [],
   "source": [
    "burglary = model.wv.most_similar('burglary', topn=20)"
   ]
  },
  {
   "cell_type": "code",
   "execution_count": 47,
   "metadata": {},
   "outputs": [],
   "source": [
    "burglary_case=[]\n",
    "for word in burglary:\n",
    "    burglary_case.append(word[0])"
   ]
  },
  {
   "cell_type": "code",
   "execution_count": 48,
   "metadata": {},
   "outputs": [
    {
     "data": {
      "text/plain": [
       "[('theft', 0.8823336362838745),\n",
       " ('robbery', 0.800076425075531),\n",
       " ('armed', 0.7503112554550171),\n",
       " ('crime', 0.7096264362335205),\n",
       " ('felony', 0.708621621131897),\n",
       " ('offense', 0.7037392854690552),\n",
       " ('rape', 0.7017298340797424),\n",
       " ('larceny', 0.6901362538337708),\n",
       " ('burglar', 0.6861385107040405),\n",
       " ('steal', 0.6835877299308777),\n",
       " ('arson', 0.6792652010917664),\n",
       " ('murder', 0.6734977960586548),\n",
       " ('stager', 0.6623508930206299),\n",
       " ('misdemeanor', 0.6556264758110046),\n",
       " ('battery', 0.6524648666381836),\n",
       " ('burglarize', 0.6512502431869507),\n",
       " ('felon', 0.6464725136756897),\n",
       " ('conviction', 0.6328710317611694),\n",
       " ('treacher', 0.6312571167945862),\n",
       " ('shoplifting', 0.6242198348045349)]"
      ]
     },
     "execution_count": 48,
     "metadata": {},
     "output_type": "execute_result"
    }
   ],
   "source": [
    "burglary"
   ]
  },
  {
   "cell_type": "code",
   "execution_count": 49,
   "metadata": {},
   "outputs": [],
   "source": [
    "sexual = model.wv.most_similar('sex', topn=20)"
   ]
  },
  {
   "cell_type": "code",
   "execution_count": 50,
   "metadata": {},
   "outputs": [
    {
     "data": {
      "text/plain": [
       "[('sexual', 0.7700510621070862),\n",
       " ('anal', 0.745247483253479),\n",
       " ('intercourse', 0.742256224155426),\n",
       " ('copulation', 0.718444287776947),\n",
       " ('fellatio', 0.7096713185310364),\n",
       " ('orgy', 0.70242840051651),\n",
       " ('masturbation', 0.6898623704910278),\n",
       " ('predator', 0.6861391663551331),\n",
       " ('sodomy', 0.68213951587677),\n",
       " ('heterosexual', 0.6798267364501953),\n",
       " ('arousal', 0.6782926917076111),\n",
       " ('penetration', 0.6723476052284241),\n",
       " ('anus', 0.670781672000885),\n",
       " ('penis', 0.6700444221496582),\n",
       " ('nonsexual', 0.6617350578308105),\n",
       " ('female', 0.6540780067443848),\n",
       " ('deviant', 0.6517698168754578),\n",
       " ('peni', 0.6471349000930786),\n",
       " ('gratification', 0.6469534635543823),\n",
       " ('unscared', 0.6469355821609497)]"
      ]
     },
     "execution_count": 50,
     "metadata": {},
     "output_type": "execute_result"
    }
   ],
   "source": [
    "sexual"
   ]
  },
  {
   "cell_type": "code",
   "execution_count": 51,
   "metadata": {},
   "outputs": [],
   "source": [
    "sexual_crimes=[]\n",
    "for word in sexual:\n",
    "    sexual_crimes.append(word[0])"
   ]
  },
  {
   "cell_type": "code",
   "execution_count": 52,
   "metadata": {},
   "outputs": [],
   "source": [
    "divorce = model.wv.most_similar('divorce', topn=20)"
   ]
  },
  {
   "cell_type": "code",
   "execution_count": 53,
   "metadata": {},
   "outputs": [],
   "source": [
    "divorce_case=[]\n",
    "for word in divorce:\n",
    "    divorce_case.append(word[0])"
   ]
  },
  {
   "cell_type": "code",
   "execution_count": 54,
   "metadata": {},
   "outputs": [
    {
     "data": {
      "text/plain": [
       "[('memorial', 0.8137274980545044),\n",
       " ('medical', 0.7673564553260803),\n",
       " ('physician', 0.7656392455101013),\n",
       " ('nurse', 0.7595176696777344),\n",
       " ('ambulance', 0.7518970966339111),\n",
       " ('patient', 0.7394770383834839),\n",
       " ('doctor', 0.724045991897583),\n",
       " ('convalesce', 0.7173148989677429),\n",
       " ('hydrotherapy', 0.7142049670219421),\n",
       " ('clinic', 0.7134445905685425),\n",
       " ('physiotherapist', 0.7077373266220093),\n",
       " ('dispensary', 0.7027827501296997),\n",
       " ('resurrection', 0.6994412541389465),\n",
       " ('semicomatose', 0.6969980001449585),\n",
       " ('sanatorium', 0.6936947107315063),\n",
       " ('hemorrhoidectomy', 0.6904058456420898),\n",
       " ('writhe', 0.6889351010322571),\n",
       " ('deaconess', 0.6885527968406677),\n",
       " ('hospitalization', 0.684134840965271),\n",
       " ('trepanning', 0.6814844608306885)]"
      ]
     },
     "execution_count": 54,
     "metadata": {},
     "output_type": "execute_result"
    }
   ],
   "source": [
    "model.wv.most_similar('hospital', topn=20)"
   ]
  },
  {
   "cell_type": "code",
   "execution_count": 55,
   "metadata": {},
   "outputs": [
    {
     "data": {
      "text/plain": [
       "[('statute', 0.8340400457382202),\n",
       " ('legislature', 0.716341495513916),\n",
       " ('statutorily', 0.6991127729415894),\n",
       " ('section', 0.6963271498680115),\n",
       " ('referent', 0.6884633302688599),\n",
       " ('unwieldly', 0.685542643070221),\n",
       " ('scind', 0.6672105193138123),\n",
       " ('vagabondage', 0.6671062707901001),\n",
       " ('reimprisonment', 0.6661648750305176),\n",
       " ('perorate', 0.6656830310821533),\n",
       " ('praemunire', 0.6632622480392456),\n",
       " ('rodding', 0.6628711819648743),\n",
       " ('noteworthiness', 0.659975528717041),\n",
       " ('mandator', 0.657524049282074),\n",
       " ('unvoluntary', 0.6567579507827759),\n",
       " ('unexpunged', 0.6556622385978699),\n",
       " ('undeterminate', 0.6551295518875122),\n",
       " ('unreferenced', 0.6548281311988831),\n",
       " ('abstractness', 0.653925359249115),\n",
       " ('enactment', 0.6537795662879944)]"
      ]
     },
     "execution_count": 55,
     "metadata": {},
     "output_type": "execute_result"
    }
   ],
   "source": [
    "model.wv.most_similar('statutory', topn=20)"
   ]
  },
  {
   "cell_type": "markdown",
   "metadata": {},
   "source": [
    "### Plotting And Visualization\n",
    "we'll visualize the degree of positive and negative semantic association of virtues and vices with \"good\" and \"bad\"."
   ]
  },
  {
   "cell_type": "code",
   "execution_count": 36,
   "metadata": {},
   "outputs": [],
   "source": [
    "weapons = ['revolver',\n",
    " 'gun',\n",
    " 'shotgun',\n",
    " 'handgun',\n",
    " 'revolv',\n",
    " 'rifle',\n",
    " 'semiautomatic',\n",
    " 'holster',\n",
    " 'waistband',\n",
    " 'caliber',\n",
    " 'shot',\n",
    " 'weapon',\n",
    " 'shoot',\n",
    " 'cocked',\n",
    " 'ammunition',\n",
    " 'shooting',\n",
    " 'sawed',\n",
    " 'millimeter',\n",
    " 'bullet',\n",
    " 'knife']\n",
    "drug = ['heroin',\n",
    " 'marijuana',\n",
    " 'gram',\n",
    " 'drug',\n",
    " 'amphetamine',\n",
    " 'undercover',\n",
    " 'ounce',\n",
    " 'narcotic',\n",
    " 'paraphernalia',\n",
    " 'nonnarcotic',\n",
    " 'powdery',\n",
    " 'bag',\n",
    " 'baggie',\n",
    " 'foil',\n",
    " 'substance',\n",
    " 'opium',\n",
    " 'dope',\n",
    " 'mescaline',\n",
    " 'packet',\n",
    " 'kilogram']\n",
    "weapons_score = [model.wv.similarity(['pistol'], word) for word in weapons]\n",
    "drug_score = [model.wv.similarity(['drug'], word) for word in drug]"
   ]
  },
  {
   "cell_type": "code",
   "execution_count": 37,
   "metadata": {},
   "outputs": [
    {
     "name": "stderr",
     "output_type": "stream",
     "text": [
      "C:\\Users\\camilla.gotta\\Anaconda3\\lib\\site-packages\\matplotlib\\text.py:1215: FutureWarning: elementwise comparison failed; returning scalar instead, but in the future will perform elementwise comparison\n",
      "  if s != self._text:\n"
     ]
    },
    {
     "data": {
      "image/png": "[encoded data removed]",
      "text/plain": [
       "<Figure size 720x504 with 1 Axes>"
      ]
     },
     "metadata": {
      "needs_background": "light"
     },
     "output_type": "display_data"
    }
   ],
   "source": [
    "%matplotlib inline\n",
    "_, ax = plt.subplots(figsize=(10,7))\n",
    "ax.scatter(weapons_score, drug_score, alpha=1, color='b')\n",
    "for i in range(len(weapons_score)):\n",
    "    ax.annotate(weapons_score[i], (weapons_score[i], drug_score[i])).set_fontsize(16)\n",
    "ax.set_xlim(.25, 1.1)\n",
    "ax.set_ylim(.25, 1.1)\n",
    "ax.yaxis.label.set_fontsize(16)\n",
    "ax.xaxis.label.set_fontsize(16)\n",
    "for item in (ax.get_xticklabels() + ax.get_yticklabels()):\n",
    "    item.set_fontsize(16)\n",
    "plt.plot([0, 1], [0, 1], linestyle='--')\n",
    "plt.savefig('plot.png')"
   ]
  },
  {
   "cell_type": "markdown",
   "metadata": {},
   "source": [
    "### Words similarity over time"
   ]
  },
  {
   "cell_type": "code",
   "execution_count": null,
   "metadata": {},
   "outputs": [],
   "source": []
  },
  {
   "cell_type": "code",
   "execution_count": null,
   "metadata": {},
   "outputs": [],
   "source": []
  },
  {
   "cell_type": "code",
   "execution_count": null,
   "metadata": {},
   "outputs": [],
   "source": []
  },
  {
   "cell_type": "code",
   "execution_count": null,
   "metadata": {},
   "outputs": [],
   "source": []
  },
  {
   "cell_type": "code",
   "execution_count": null,
   "metadata": {},
   "outputs": [],
   "source": []
  },
  {
   "cell_type": "code",
   "execution_count": null,
   "metadata": {},
   "outputs": [],
   "source": []
  },
  {
   "cell_type": "markdown",
   "metadata": {},
   "source": [
    "### Classification of law cases"
   ]
  },
  {
   "cell_type": "code",
   "execution_count": 27,
   "metadata": {},
   "outputs": [],
   "source": [
    "#Load data\n",
    "with open(\"opinion_texts_notok.pkl\", 'rb') as f:\n",
    "     opinion_texts_notok = pickle.load(f)"
   ]
  },
  {
   "cell_type": "code",
   "execution_count": 56,
   "metadata": {},
   "outputs": [],
   "source": [
    "financial = (opinion_texts_notok['Text'].str.contains(\"|\".join(financial_crimes))) \n",
    "weapons = (opinion_texts_notok['Text'].str.contains(\"|\".join(weapons_crimes))) \n",
    "drug = (opinion_texts_notok['Text'].str.contains(\"|\".join(drug_crimes))) \n",
    "accident = (opinion_texts_notok['Text'].str.contains(\"|\".join(car_accident))) \n",
    "burglary = (opinion_texts_notok['Text'].str.contains(\"|\".join(burglary_case))) \n",
    "sexual = (opinion_texts_notok['Text'].str.contains(\"|\".join(sexual_crimes)))\n",
    "divorce = (opinion_texts_notok['Text'].str.contains(\"|\".join(divorce_case)))"
   ]
  },
  {
   "cell_type": "code",
   "execution_count": 57,
   "metadata": {},
   "outputs": [],
   "source": [
    "crimes = [financial, weapons, drug, accident, burglary, sexual, divorce]"
   ]
  },
  {
   "cell_type": "code",
   "execution_count": 58,
   "metadata": {},
   "outputs": [
    {
     "data": {
      "text/html": [
       "<div>\n",
       "<style scoped>\n",
       "    .dataframe tbody tr th:only-of-type {\n",
       "        vertical-align: middle;\n",
       "    }\n",
       "\n",
       "    .dataframe tbody tr th {\n",
       "        vertical-align: top;\n",
       "    }\n",
       "\n",
       "    .dataframe thead th {\n",
       "        text-align: right;\n",
       "    }\n",
       "</style>\n",
       "<table border=\"1\" class=\"dataframe\">\n",
       "  <thead>\n",
       "    <tr style=\"text-align: right;\">\n",
       "      <th></th>\n",
       "      <th>Text</th>\n",
       "      <th>crimes</th>\n",
       "    </tr>\n",
       "  </thead>\n",
       "  <tbody>\n",
       "    <tr>\n",
       "      <th>186365</th>\n",
       "      <td>armed robbery murder tried separately followin...</td>\n",
       "      <td>weapons</td>\n",
       "    </tr>\n",
       "    <tr>\n",
       "      <th>186366</th>\n",
       "      <td>brought damages sustained directed verdict evi...</td>\n",
       "      <td>finance</td>\n",
       "    </tr>\n",
       "    <tr>\n",
       "      <th>186367</th>\n",
       "      <td>murder armed robbery following armed robbery m...</td>\n",
       "      <td>weapons</td>\n",
       "    </tr>\n",
       "    <tr>\n",
       "      <th>186368</th>\n",
       "      <td>declaratory damages negotiate procure sought f...</td>\n",
       "      <td>sexual</td>\n",
       "    </tr>\n",
       "    <tr>\n",
       "      <th>186369</th>\n",
       "      <td>offense propriety allegedly noise engaged burg...</td>\n",
       "      <td>accident</td>\n",
       "    </tr>\n",
       "  </tbody>\n",
       "</table>\n",
       "</div>"
      ],
      "text/plain": [
       "                                                     Text    crimes\n",
       "186365  armed robbery murder tried separately followin...   weapons\n",
       "186366  brought damages sustained directed verdict evi...   finance\n",
       "186367  murder armed robbery following armed robbery m...   weapons\n",
       "186368  declaratory damages negotiate procure sought f...    sexual\n",
       "186369  offense propriety allegedly noise engaged burg...  accident"
      ]
     },
     "execution_count": 58,
     "metadata": {},
     "output_type": "execute_result"
    }
   ],
   "source": [
    "# create a list of the values we want to assign for each condition\n",
    "values = ['finance', 'weapons', 'drug', 'accident', 'burglary','sexual','divorce']\n",
    "\n",
    "# create a new column and use np.select to assign values to it using our lists as arguments\n",
    "opinion_texts_notok['crimes'] = np.select(crimes, values)\n",
    "\n",
    "# display updated DataFrame\n",
    "opinion_texts_notok.tail()"
   ]
  },
  {
   "cell_type": "code",
   "execution_count": 60,
   "metadata": {},
   "outputs": [],
   "source": [
    "accident = opinion_texts_notok.loc[opinion_texts_notok['crimes']==\"accident\"] #13514\n",
    "finance= opinion_texts_notok.loc[opinion_texts_notok['crimes']==\"finance\"] #26529\n",
    "weapons= opinion_texts_notok.loc[opinion_texts_notok['crimes']==\"weapons\"] #14596\n",
    "burglary= opinion_texts_notok.loc[opinion_texts_notok['crimes']==\"burglary\"] #19675\n",
    "drug= opinion_texts_notok.loc[opinion_texts_notok['crimes']==\"drug\"] #9537\n",
    "sexual = opinion_texts_notok.loc[opinion_texts_notok['crimes']==\"sexual\"] #7375\n",
    "divorce = opinion_texts_notok.loc[opinion_texts_notok['crimes']==\"divorce\"] #3817\n",
    "\n",
    "#tot 80.447/197785 = 40%"
   ]
  },
  {
   "cell_type": "code",
   "execution_count": 70,
   "metadata": {},
   "outputs": [
    {
     "data": {
      "text/html": [
       "<div>\n",
       "<style scoped>\n",
       "    .dataframe tbody tr th:only-of-type {\n",
       "        vertical-align: middle;\n",
       "    }\n",
       "\n",
       "    .dataframe tbody tr th {\n",
       "        vertical-align: top;\n",
       "    }\n",
       "\n",
       "    .dataframe thead th {\n",
       "        text-align: right;\n",
       "    }\n",
       "</style>\n",
       "<table border=\"1\" class=\"dataframe\">\n",
       "  <thead>\n",
       "    <tr style=\"text-align: right;\">\n",
       "      <th></th>\n",
       "      <th>Text</th>\n",
       "      <th>crimes</th>\n",
       "    </tr>\n",
       "  </thead>\n",
       "  <tbody>\n",
       "    <tr>\n",
       "      <th>9</th>\n",
       "      <td>guilty degree murder burglary proven guilty re...</td>\n",
       "      <td>weapons</td>\n",
       "    </tr>\n",
       "    <tr>\n",
       "      <th>14</th>\n",
       "      <td>robbery assault guilty armed robbery murder co...</td>\n",
       "      <td>weapons</td>\n",
       "    </tr>\n",
       "    <tr>\n",
       "      <th>15</th>\n",
       "      <td>following guilty degree murder conviction foll...</td>\n",
       "      <td>weapons</td>\n",
       "    </tr>\n",
       "    <tr>\n",
       "      <th>16</th>\n",
       "      <td>reconsideration sentence offense raised imposi...</td>\n",
       "      <td>weapons</td>\n",
       "    </tr>\n",
       "    <tr>\n",
       "      <th>17</th>\n",
       "      <td>following guilty degree murder sexual assault ...</td>\n",
       "      <td>weapons</td>\n",
       "    </tr>\n",
       "    <tr>\n",
       "      <th>...</th>\n",
       "      <td>...</td>\n",
       "      <td>...</td>\n",
       "    </tr>\n",
       "    <tr>\n",
       "      <th>186353</th>\n",
       "      <td>conviction degree murder prison sentence rever...</td>\n",
       "      <td>weapons</td>\n",
       "    </tr>\n",
       "    <tr>\n",
       "      <th>186362</th>\n",
       "      <td>dismissal conviction conviction evidentiary ag...</td>\n",
       "      <td>weapons</td>\n",
       "    </tr>\n",
       "    <tr>\n",
       "      <th>186363</th>\n",
       "      <td>forensic evidence raise reasonable probability...</td>\n",
       "      <td>weapons</td>\n",
       "    </tr>\n",
       "    <tr>\n",
       "      <th>186365</th>\n",
       "      <td>armed robbery murder tried separately followin...</td>\n",
       "      <td>weapons</td>\n",
       "    </tr>\n",
       "    <tr>\n",
       "      <th>186367</th>\n",
       "      <td>murder armed robbery following armed robbery m...</td>\n",
       "      <td>weapons</td>\n",
       "    </tr>\n",
       "  </tbody>\n",
       "</table>\n",
       "<p>14596 rows × 2 columns</p>\n",
       "</div>"
      ],
      "text/plain": [
       "                                                     Text   crimes\n",
       "9       guilty degree murder burglary proven guilty re...  weapons\n",
       "14      robbery assault guilty armed robbery murder co...  weapons\n",
       "15      following guilty degree murder conviction foll...  weapons\n",
       "16      reconsideration sentence offense raised imposi...  weapons\n",
       "17      following guilty degree murder sexual assault ...  weapons\n",
       "...                                                   ...      ...\n",
       "186353  conviction degree murder prison sentence rever...  weapons\n",
       "186362  dismissal conviction conviction evidentiary ag...  weapons\n",
       "186363  forensic evidence raise reasonable probability...  weapons\n",
       "186365  armed robbery murder tried separately followin...  weapons\n",
       "186367  murder armed robbery following armed robbery m...  weapons\n",
       "\n",
       "[14596 rows x 2 columns]"
      ]
     },
     "execution_count": 70,
     "metadata": {},
     "output_type": "execute_result"
    }
   ],
   "source": [
    "weapons"
   ]
  },
  {
   "cell_type": "code",
   "execution_count": 63,
   "metadata": {},
   "outputs": [],
   "source": [
    "with open(\"accident.pkl\", \"wb\") as f:\n",
    "    pickle.dump(accident, f)"
   ]
  },
  {
   "cell_type": "code",
   "execution_count": 64,
   "metadata": {},
   "outputs": [],
   "source": [
    "with open(\"weapons.pkl\", \"wb\") as f:\n",
    "    pickle.dump(weapons, f)"
   ]
  },
  {
   "cell_type": "code",
   "execution_count": 65,
   "metadata": {},
   "outputs": [],
   "source": [
    "with open(\"finance.pkl\", \"wb\") as f:\n",
    "    pickle.dump(finance, f)"
   ]
  },
  {
   "cell_type": "code",
   "execution_count": 66,
   "metadata": {},
   "outputs": [],
   "source": [
    "with open(\"burglary.pkl\", \"wb\") as f:\n",
    "    pickle.dump(burglary, f)"
   ]
  },
  {
   "cell_type": "code",
   "execution_count": 67,
   "metadata": {},
   "outputs": [],
   "source": [
    "with open(\"drug.pkl\", \"wb\") as f:\n",
    "    pickle.dump(drug, f)"
   ]
  },
  {
   "cell_type": "code",
   "execution_count": 68,
   "metadata": {},
   "outputs": [],
   "source": [
    "with open(\"sexual.pkl\", \"wb\") as f:\n",
    "    pickle.dump(sexual, f)"
   ]
  },
  {
   "cell_type": "code",
   "execution_count": 69,
   "metadata": {},
   "outputs": [],
   "source": [
    "with open(\"divorce.pkl\", \"wb\") as f:\n",
    "    pickle.dump(divorce, f)"
   ]
  },
  {
   "cell_type": "code",
   "execution_count": null,
   "metadata": {},
   "outputs": [],
   "source": []
  }
 ],
 "metadata": {
  "kernelspec": {
   "display_name": "Python 3 (ipykernel)",
   "language": "python",
   "name": "python3"
  },
  "language_info": {
   "codemirror_mode": {
    "name": "ipython",
    "version": 3
   },
   "file_extension": ".py",
   "mimetype": "text/x-python",
   "name": "python",
   "nbconvert_exporter": "python",
   "pygments_lexer": "ipython3",
   "version": "3.9.7"
  }
 },
 "nbformat": 4,
 "nbformat_minor": 4
}
